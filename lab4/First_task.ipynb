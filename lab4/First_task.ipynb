{
 "cells": [
  {
   "cell_type": "code",
   "execution_count": 1,
   "id": "initial_id",
   "metadata": {
    "collapsed": true,
    "ExecuteTime": {
     "end_time": "2023-11-09T15:20:38.391383100Z",
     "start_time": "2023-11-09T15:20:37.895361Z"
    }
   },
   "outputs": [],
   "source": [
    "import numpy as np\n",
    "from calcManager import calcManager\n",
    "import pandas as pd\n",
    "calcManager = calcManager()"
   ]
  },
  {
   "cell_type": "code",
   "execution_count": 2,
   "outputs": [
    {
     "data": {
      "text/plain": "  Альтернативи   П1   П2   П3   П4   П5\n0           A1  180  140    4  229  232\n1           A2  420  160  140  220  100\n2           A3   57  315   35   49  220\n3           A4  250    4    9  310  201",
      "text/html": "<div>\n<style scoped>\n    .dataframe tbody tr th:only-of-type {\n        vertical-align: middle;\n    }\n\n    .dataframe tbody tr th {\n        vertical-align: top;\n    }\n\n    .dataframe thead th {\n        text-align: right;\n    }\n</style>\n<table border=\"1\" class=\"dataframe\">\n  <thead>\n    <tr style=\"text-align: right;\">\n      <th></th>\n      <th>Альтернативи</th>\n      <th>П1</th>\n      <th>П2</th>\n      <th>П3</th>\n      <th>П4</th>\n      <th>П5</th>\n    </tr>\n  </thead>\n  <tbody>\n    <tr>\n      <th>0</th>\n      <td>A1</td>\n      <td>180</td>\n      <td>140</td>\n      <td>4</td>\n      <td>229</td>\n      <td>232</td>\n    </tr>\n    <tr>\n      <th>1</th>\n      <td>A2</td>\n      <td>420</td>\n      <td>160</td>\n      <td>140</td>\n      <td>220</td>\n      <td>100</td>\n    </tr>\n    <tr>\n      <th>2</th>\n      <td>A3</td>\n      <td>57</td>\n      <td>315</td>\n      <td>35</td>\n      <td>49</td>\n      <td>220</td>\n    </tr>\n    <tr>\n      <th>3</th>\n      <td>A4</td>\n      <td>250</td>\n      <td>4</td>\n      <td>9</td>\n      <td>310</td>\n      <td>201</td>\n    </tr>\n  </tbody>\n</table>\n</div>"
     },
     "metadata": {},
     "output_type": "display_data"
    }
   ],
   "source": [
    "matrix = pd.read_excel('lab.xlsx', sheet_name='завдання_1',header=None, skiprows=5, usecols='C:G', nrows=4).to_numpy()\n",
    "propabilities = pd.read_excel('lab.xlsx', sheet_name='завдання_1',header=None, skiprows=5, usecols='L:P', nrows=1).to_numpy()\n",
    "al = pd.read_excel('lab.xlsx', sheet_name='завдання_1',header=None, skiprows=5, usecols='J', nrows=1).to_numpy()\n",
    "data = {\n",
    "    \"Альтернативи\":[\"A1\", \"A2\", \"A3\", \"A4\"],\n",
    "    \"П1\":matrix[:, 0],\n",
    "    \"П2\":matrix[:, 1],\n",
    "    \"П3\":matrix[:, 2],\n",
    "    \"П4\":matrix[:, 3],\n",
    "    \"П5\":matrix[:, 4]\n",
    "}\n",
    "display(pd.DataFrame(data))"
   ],
   "metadata": {
    "collapsed": false,
    "ExecuteTime": {
     "end_time": "2023-11-09T15:20:38.882519700Z",
     "start_time": "2023-11-09T15:20:38.395724300Z"
    }
   },
   "id": "36da89f7954a3f17"
  },
  {
   "cell_type": "code",
   "execution_count": 2,
   "outputs": [],
   "source": [],
   "metadata": {
    "collapsed": false,
    "ExecuteTime": {
     "end_time": "2023-11-09T15:20:38.892079500Z",
     "start_time": "2023-11-09T15:20:38.877516300Z"
    }
   },
   "id": "a94212e5cf723e74"
  },
  {
   "cell_type": "code",
   "execution_count": 3,
   "outputs": [
    {
     "name": "stdout",
     "output_type": "stream",
     "text": [
      "За критерієм песимізму:  [1 4]\n",
      "За критерієм оптимізму:  2\n",
      "За критерієм Лапласа:  2\n",
      "За критерієм Гурвіца:  2\n",
      "За критерієм Баєса-Лапласа:  2\n",
      "За критерієм Ходжа-Лемана:  2\n"
     ]
    }
   ],
   "source": [
    "calcManager.pessimistic_criterion(matrix)\n",
    "calcManager.optimistic_criterion(matrix)\n",
    "calcManager.laplace_criterion(matrix)\n",
    "calcManager.hurwicz_criterion(matrix, al)\n",
    "calcManager.bayes_laplace_criterion(matrix, propabilities[0])\n",
    "calcManager.hodges_lehmann_criterion(matrix, propabilities[0], al)"
   ],
   "metadata": {
    "collapsed": false,
    "ExecuteTime": {
     "end_time": "2023-11-09T15:20:38.945953500Z",
     "start_time": "2023-11-09T15:20:38.897612600Z"
    }
   },
   "id": "f2d4adcabef48406"
  }
 ],
 "metadata": {
  "kernelspec": {
   "display_name": "Python 3",
   "language": "python",
   "name": "python3"
  },
  "language_info": {
   "codemirror_mode": {
    "name": "ipython",
    "version": 2
   },
   "file_extension": ".py",
   "mimetype": "text/x-python",
   "name": "python",
   "nbconvert_exporter": "python",
   "pygments_lexer": "ipython2",
   "version": "2.7.6"
  }
 },
 "nbformat": 4,
 "nbformat_minor": 5
}
