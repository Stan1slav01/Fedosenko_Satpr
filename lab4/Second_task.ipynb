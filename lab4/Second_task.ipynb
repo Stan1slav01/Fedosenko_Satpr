{
 "cells": [
  {
   "cell_type": "code",
   "execution_count": 1,
   "id": "initial_id",
   "metadata": {
    "collapsed": true,
    "ExecuteTime": {
     "end_time": "2023-11-09T15:22:51.492013500Z",
     "start_time": "2023-11-09T15:22:50.838806800Z"
    }
   },
   "outputs": [],
   "source": [
    "import numpy as np\n",
    "from calcManager import calcManager\n",
    "import pandas as pd\n",
    "calcManager = calcManager()"
   ]
  },
  {
   "cell_type": "code",
   "execution_count": 2,
   "outputs": [
    {
     "data": {
      "text/plain": "  Альтернативи  K1  K2  K3  K4\n0           А1   3   7   2   9\n1           A2   8   3   6   7\n2           A3   4   8   3   5\n3           A4   9   6   5   4",
      "text/html": "<div>\n<style scoped>\n    .dataframe tbody tr th:only-of-type {\n        vertical-align: middle;\n    }\n\n    .dataframe tbody tr th {\n        vertical-align: top;\n    }\n\n    .dataframe thead th {\n        text-align: right;\n    }\n</style>\n<table border=\"1\" class=\"dataframe\">\n  <thead>\n    <tr style=\"text-align: right;\">\n      <th></th>\n      <th>Альтернативи</th>\n      <th>K1</th>\n      <th>K2</th>\n      <th>K3</th>\n      <th>K4</th>\n    </tr>\n  </thead>\n  <tbody>\n    <tr>\n      <th>0</th>\n      <td>А1</td>\n      <td>3</td>\n      <td>7</td>\n      <td>2</td>\n      <td>9</td>\n    </tr>\n    <tr>\n      <th>1</th>\n      <td>A2</td>\n      <td>8</td>\n      <td>3</td>\n      <td>6</td>\n      <td>7</td>\n    </tr>\n    <tr>\n      <th>2</th>\n      <td>A3</td>\n      <td>4</td>\n      <td>8</td>\n      <td>3</td>\n      <td>5</td>\n    </tr>\n    <tr>\n      <th>3</th>\n      <td>A4</td>\n      <td>9</td>\n      <td>6</td>\n      <td>5</td>\n      <td>4</td>\n    </tr>\n  </tbody>\n</table>\n</div>"
     },
     "metadata": {},
     "output_type": "display_data"
    }
   ],
   "source": [
    "non_normalized_matrix = pd.read_excel('lab.xlsx', sheet_name='завдання_2',header=None, skiprows=11, usecols='D:G', nrows=4).to_numpy()\n",
    "weight = pd.read_excel('lab.xlsx', sheet_name='завдання_2',header=None, skiprows=15, usecols='D:G', nrows=1).to_numpy()\n",
    "data = {\n",
    "    \"Альтернативи\":[\"А1\", \"A2\", \"A3\", \"A4\"],\n",
    "    \"K1\":non_normalized_matrix[:, 0],\n",
    "    \"K2\":non_normalized_matrix[:, 1],\n",
    "    \"K3\":non_normalized_matrix[:, 2],\n",
    "    \"K4\":non_normalized_matrix[:, 3],\n",
    "}\n",
    "display(pd.DataFrame(data))"
   ],
   "metadata": {
    "collapsed": false,
    "ExecuteTime": {
     "end_time": "2023-11-09T15:22:52.081054700Z",
     "start_time": "2023-11-09T15:22:51.501054400Z"
    }
   },
   "id": "d68c016da1c15788"
  },
  {
   "cell_type": "code",
   "execution_count": 3,
   "outputs": [
    {
     "data": {
      "text/plain": "  Альтернативи        K1   K2    K3   K4\n0           А1  1.000000  0.8  0.00  1.0\n1           A2  0.166667  0.0  1.00  0.6\n2           A3  0.833333  1.0  0.25  0.2\n3           A4  0.000000  0.6  0.75  0.0",
      "text/html": "<div>\n<style scoped>\n    .dataframe tbody tr th:only-of-type {\n        vertical-align: middle;\n    }\n\n    .dataframe tbody tr th {\n        vertical-align: top;\n    }\n\n    .dataframe thead th {\n        text-align: right;\n    }\n</style>\n<table border=\"1\" class=\"dataframe\">\n  <thead>\n    <tr style=\"text-align: right;\">\n      <th></th>\n      <th>Альтернативи</th>\n      <th>K1</th>\n      <th>K2</th>\n      <th>K3</th>\n      <th>K4</th>\n    </tr>\n  </thead>\n  <tbody>\n    <tr>\n      <th>0</th>\n      <td>А1</td>\n      <td>1.000000</td>\n      <td>0.8</td>\n      <td>0.00</td>\n      <td>1.0</td>\n    </tr>\n    <tr>\n      <th>1</th>\n      <td>A2</td>\n      <td>0.166667</td>\n      <td>0.0</td>\n      <td>1.00</td>\n      <td>0.6</td>\n    </tr>\n    <tr>\n      <th>2</th>\n      <td>A3</td>\n      <td>0.833333</td>\n      <td>1.0</td>\n      <td>0.25</td>\n      <td>0.2</td>\n    </tr>\n    <tr>\n      <th>3</th>\n      <td>A4</td>\n      <td>0.000000</td>\n      <td>0.6</td>\n      <td>0.75</td>\n      <td>0.0</td>\n    </tr>\n  </tbody>\n</table>\n</div>"
     },
     "metadata": {},
     "output_type": "display_data"
    }
   ],
   "source": [
    "normalized_matrix = calcManager.normalize_matrix(non_normalized_matrix, [0])\n",
    "data = {\n",
    "    \"Альтернативи\":[\"А1\", \"A2\", \"A3\", \"A4\"],\n",
    "    \"K1\":normalized_matrix[:, 0],\n",
    "    \"K2\":normalized_matrix[:, 1],\n",
    "    \"K3\":normalized_matrix[:, 2],\n",
    "    \"K4\":normalized_matrix[:, 3],\n",
    "}\n",
    "display(pd.DataFrame(data))"
   ],
   "metadata": {
    "collapsed": false,
    "ExecuteTime": {
     "end_time": "2023-11-09T15:22:52.142386400Z",
     "start_time": "2023-11-09T15:22:52.081054700Z"
    }
   },
   "id": "e6e9e4aefbab867f"
  },
  {
   "cell_type": "markdown",
   "source": [],
   "metadata": {
    "collapsed": false
   },
   "id": "58e96117668b0833"
  },
  {
   "cell_type": "code",
   "execution_count": 4,
   "outputs": [
    {
     "name": "stdout",
     "output_type": "stream",
     "text": [
      "За критерієм песимізму:  [1 2 4]\n",
      "За критерієм оптимізму:  3\n",
      "За критерієм Лапласа:  1\n",
      "За критерієм Гурвіца:  3\n",
      "За критерієм Баєса-Лапласа:  1\n"
     ]
    }
   ],
   "source": [
    "propabilities = [0.3 , 0.35, 0.1, 0.25]\n",
    "\n",
    "calcManager.pessimistic_criterion(normalized_matrix)\n",
    "calcManager.optimistic_criterion(normalized_matrix)\n",
    "calcManager.laplace_criterion(normalized_matrix)\n",
    "calcManager.hurwicz_criterion(normalized_matrix, 0.5)\n",
    "calcManager.bayes_laplace_criterion(normalized_matrix, propabilities)"
   ],
   "metadata": {
    "collapsed": false,
    "ExecuteTime": {
     "end_time": "2023-11-09T15:22:52.276781400Z",
     "start_time": "2023-11-09T15:22:52.124301600Z"
    }
   },
   "id": "5d2108ab36bce659"
  }
 ],
 "metadata": {
  "kernelspec": {
   "display_name": "Python 3",
   "language": "python",
   "name": "python3"
  },
  "language_info": {
   "codemirror_mode": {
    "name": "ipython",
    "version": 2
   },
   "file_extension": ".py",
   "mimetype": "text/x-python",
   "name": "python",
   "nbconvert_exporter": "python",
   "pygments_lexer": "ipython2",
   "version": "2.7.6"
  }
 },
 "nbformat": 4,
 "nbformat_minor": 5
}
