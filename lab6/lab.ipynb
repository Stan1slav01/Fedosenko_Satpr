{
 "cells": [
  {
   "cell_type": "code",
   "execution_count": 173,
   "id": "initial_id",
   "metadata": {
    "collapsed": true,
    "ExecuteTime": {
     "end_time": "2023-11-21T15:52:48.324088700Z",
     "start_time": "2023-11-21T15:52:48.261724Z"
    }
   },
   "outputs": [],
   "source": [
    "import pandas as pd\n",
    "import numpy as np"
   ]
  },
  {
   "cell_type": "code",
   "execution_count": 174,
   "outputs": [
    {
     "data": {
      "text/plain": "    r1  r2\nl1   5   6\nl2   2   3\nl3   4   7",
      "text/html": "<div>\n<style scoped>\n    .dataframe tbody tr th:only-of-type {\n        vertical-align: middle;\n    }\n\n    .dataframe tbody tr th {\n        vertical-align: top;\n    }\n\n    .dataframe thead th {\n        text-align: right;\n    }\n</style>\n<table border=\"1\" class=\"dataframe\">\n  <thead>\n    <tr style=\"text-align: right;\">\n      <th></th>\n      <th>r1</th>\n      <th>r2</th>\n    </tr>\n  </thead>\n  <tbody>\n    <tr>\n      <th>l1</th>\n      <td>5</td>\n      <td>6</td>\n    </tr>\n    <tr>\n      <th>l2</th>\n      <td>2</td>\n      <td>3</td>\n    </tr>\n    <tr>\n      <th>l3</th>\n      <td>4</td>\n      <td>7</td>\n    </tr>\n  </tbody>\n</table>\n</div>"
     },
     "metadata": {},
     "output_type": "display_data"
    }
   ],
   "source": [
    "matrix = pd.read_excel('lab.xlsx', sheet_name='Лист1',header=None, skiprows=3, usecols='F:G', nrows=3).to_numpy()\n",
    "base_matrix = matrix.copy()\n",
    "display(pd.DataFrame(matrix, columns=['r1','r2'], index=['l1','l2','l3']))"
   ],
   "metadata": {
    "collapsed": false,
    "ExecuteTime": {
     "end_time": "2023-11-21T15:52:48.325089300Z",
     "start_time": "2023-11-21T15:52:48.287092700Z"
    }
   },
   "id": "66043657c33ecd98"
  },
  {
   "cell_type": "raw",
   "source": [
    "додаємо фіктивний стовпець"
   ],
   "metadata": {
    "collapsed": false
   },
   "id": "5ab404df45254783"
  },
  {
   "cell_type": "code",
   "execution_count": 175,
   "outputs": [
    {
     "data": {
      "text/plain": "    r1  r2  r3\nl1   5   6   7\nl2   2   3   7\nl3   4   7   7",
      "text/html": "<div>\n<style scoped>\n    .dataframe tbody tr th:only-of-type {\n        vertical-align: middle;\n    }\n\n    .dataframe tbody tr th {\n        vertical-align: top;\n    }\n\n    .dataframe thead th {\n        text-align: right;\n    }\n</style>\n<table border=\"1\" class=\"dataframe\">\n  <thead>\n    <tr style=\"text-align: right;\">\n      <th></th>\n      <th>r1</th>\n      <th>r2</th>\n      <th>r3</th>\n    </tr>\n  </thead>\n  <tbody>\n    <tr>\n      <th>l1</th>\n      <td>5</td>\n      <td>6</td>\n      <td>7</td>\n    </tr>\n    <tr>\n      <th>l2</th>\n      <td>2</td>\n      <td>3</td>\n      <td>7</td>\n    </tr>\n    <tr>\n      <th>l3</th>\n      <td>4</td>\n      <td>7</td>\n      <td>7</td>\n    </tr>\n  </tbody>\n</table>\n</div>"
     },
     "metadata": {},
     "output_type": "display_data"
    }
   ],
   "source": [
    "new_column = np.full((matrix.shape[0], 1), matrix.max())\n",
    "matrix = np.hstack((matrix, new_column))\n",
    "display(pd.DataFrame(matrix, columns=['r1','r2', 'r3'], index=['l1','l2','l3']))"
   ],
   "metadata": {
    "collapsed": false,
    "ExecuteTime": {
     "end_time": "2023-11-21T15:52:48.341089800Z",
     "start_time": "2023-11-21T15:52:48.319092600Z"
    }
   },
   "id": "580c3aa563fa3297"
  },
  {
   "cell_type": "raw",
   "source": [
    "віднімаємо мін. елемент від значень рядків"
   ],
   "metadata": {
    "collapsed": false
   },
   "id": "77cfcac2107640a4"
  },
  {
   "cell_type": "code",
   "execution_count": 176,
   "outputs": [
    {
     "data": {
      "text/plain": "    r1  r2  r3\nl1   0   1   2\nl2   0   1   5\nl3   0   3   3",
      "text/html": "<div>\n<style scoped>\n    .dataframe tbody tr th:only-of-type {\n        vertical-align: middle;\n    }\n\n    .dataframe tbody tr th {\n        vertical-align: top;\n    }\n\n    .dataframe thead th {\n        text-align: right;\n    }\n</style>\n<table border=\"1\" class=\"dataframe\">\n  <thead>\n    <tr style=\"text-align: right;\">\n      <th></th>\n      <th>r1</th>\n      <th>r2</th>\n      <th>r3</th>\n    </tr>\n  </thead>\n  <tbody>\n    <tr>\n      <th>l1</th>\n      <td>0</td>\n      <td>1</td>\n      <td>2</td>\n    </tr>\n    <tr>\n      <th>l2</th>\n      <td>0</td>\n      <td>1</td>\n      <td>5</td>\n    </tr>\n    <tr>\n      <th>l3</th>\n      <td>0</td>\n      <td>3</td>\n      <td>3</td>\n    </tr>\n  </tbody>\n</table>\n</div>"
     },
     "metadata": {},
     "output_type": "display_data"
    }
   ],
   "source": [
    "min_values = np.min(matrix, axis=1, keepdims=True)\n",
    "matrix = matrix - min_values\n",
    "display(pd.DataFrame(matrix, columns=['r1','r2', 'r3'], index=['l1','l2','l3']))"
   ],
   "metadata": {
    "collapsed": false,
    "ExecuteTime": {
     "end_time": "2023-11-21T15:52:48.358100200Z",
     "start_time": "2023-11-21T15:52:48.328090900Z"
    }
   },
   "id": "55700e66e04b2d7d"
  },
  {
   "cell_type": "raw",
   "source": [
    "віднімаємо мін. елемент від значень стовпців"
   ],
   "metadata": {
    "collapsed": false
   },
   "id": "63f47c9f1388562"
  },
  {
   "cell_type": "code",
   "execution_count": 177,
   "outputs": [
    {
     "data": {
      "text/plain": "    r1  r2  r3\nl1   0   0   0\nl2   0   0   3\nl3   0   2   1",
      "text/html": "<div>\n<style scoped>\n    .dataframe tbody tr th:only-of-type {\n        vertical-align: middle;\n    }\n\n    .dataframe tbody tr th {\n        vertical-align: top;\n    }\n\n    .dataframe thead th {\n        text-align: right;\n    }\n</style>\n<table border=\"1\" class=\"dataframe\">\n  <thead>\n    <tr style=\"text-align: right;\">\n      <th></th>\n      <th>r1</th>\n      <th>r2</th>\n      <th>r3</th>\n    </tr>\n  </thead>\n  <tbody>\n    <tr>\n      <th>l1</th>\n      <td>0</td>\n      <td>0</td>\n      <td>0</td>\n    </tr>\n    <tr>\n      <th>l2</th>\n      <td>0</td>\n      <td>0</td>\n      <td>3</td>\n    </tr>\n    <tr>\n      <th>l3</th>\n      <td>0</td>\n      <td>2</td>\n      <td>1</td>\n    </tr>\n  </tbody>\n</table>\n</div>"
     },
     "metadata": {},
     "output_type": "display_data"
    }
   ],
   "source": [
    "min_values = np.min(matrix, axis=0, keepdims=True)\n",
    "matrix = matrix - min_values\n",
    "display(pd.DataFrame(matrix, columns=['r1','r2', 'r3'], index=['l1','l2','l3']))"
   ],
   "metadata": {
    "collapsed": false,
    "ExecuteTime": {
     "end_time": "2023-11-21T15:52:48.423311Z",
     "start_time": "2023-11-21T15:52:48.354101400Z"
    }
   },
   "id": "725a80cd896d9f96"
  },
  {
   "cell_type": "code",
   "execution_count": 178,
   "outputs": [
    {
     "name": "stdout",
     "output_type": "stream",
     "text": [
      "[0 0 0]\n",
      "[3 4]\n",
      "[0 0 1]\n"
     ]
    }
   ],
   "source": [
    "print( np.diag(np.fliplr(matrix), 0))\n",
    "print(np.diag(np.fliplr(base_matrix), -1))\n",
    "diagonal_indices = np.diag_indices(matrix.shape[0])\n"
   ],
   "metadata": {
    "collapsed": false,
    "ExecuteTime": {
     "end_time": "2023-11-21T15:52:48.543545200Z",
     "start_time": "2023-11-21T15:52:48.369609300Z"
    }
   },
   "id": "6cff2c0286f5270a"
  }
 ],
 "metadata": {
  "kernelspec": {
   "display_name": "Python 3",
   "language": "python",
   "name": "python3"
  },
  "language_info": {
   "codemirror_mode": {
    "name": "ipython",
    "version": 2
   },
   "file_extension": ".py",
   "mimetype": "text/x-python",
   "name": "python",
   "nbconvert_exporter": "python",
   "pygments_lexer": "ipython2",
   "version": "2.7.6"
  }
 },
 "nbformat": 4,
 "nbformat_minor": 5
}
