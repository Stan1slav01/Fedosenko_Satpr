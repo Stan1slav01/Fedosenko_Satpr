{
 "cells": [
  {
   "cell_type": "code",
   "execution_count": 195,
   "outputs": [],
   "source": [
    "demand_probability = [0.3, 0.6, 0.1]\n",
    "demand = [10, 15, 20]\n",
    "production_costs = 1500\n",
    "selling_price = 2400\n",
    "fine = 1400"
   ],
   "metadata": {
    "collapsed": false,
    "ExecuteTime": {
     "end_time": "2023-10-26T10:09:40.447991Z",
     "start_time": "2023-10-26T10:09:40.367820Z"
    }
   },
   "id": "d51f8b303403fab5"
  },
  {
   "cell_type": "code",
   "execution_count": 196,
   "outputs": [],
   "source": [
    "first_production = 10\n",
    "second_production = 15\n",
    "third_production = 20 "
   ],
   "metadata": {
    "collapsed": false,
    "ExecuteTime": {
     "end_time": "2023-10-26T10:09:40.447991Z",
     "start_time": "2023-10-26T10:09:40.379511200Z"
    }
   },
   "id": "525d6feff8ce629e"
  },
  {
   "cell_type": "code",
   "execution_count": 197,
   "outputs": [],
   "source": [
    "first_sold_amount = [\n",
    "    min(first_production, demand[0]),\n",
    "    min(first_production, demand[1]),\n",
    "    min(first_production, demand[2])\n",
    "]\n",
    "first_not_sold_amount = [\n",
    "    first_production - first_sold_amount[0],\n",
    "    first_production - first_sold_amount[1],\n",
    "    first_production - first_sold_amount[2]\n",
    "]\n",
    "first_unsatisfied_demand=[\n",
    "    demand[0] - first_production if demand[0] > first_production else 0,\n",
    "    demand[1] - first_production if demand[1] > first_production else 0,\n",
    "    demand[2] - first_production if demand[2] > first_production else 0\n",
    "]"
   ],
   "metadata": {
    "collapsed": false,
    "ExecuteTime": {
     "end_time": "2023-10-26T10:09:40.447991Z",
     "start_time": "2023-10-26T10:09:40.397979200Z"
    }
   },
   "id": "62077231b6842ec7"
  },
  {
   "cell_type": "code",
   "execution_count": 198,
   "outputs": [],
   "source": [
    "second_sold_amount = [\n",
    "    min(second_production, demand[0]),\n",
    "    min(second_production, demand[1]),\n",
    "    min(second_production, demand[2])\n",
    "]\n",
    "second_not_sold_amount = [\n",
    "    second_production - second_sold_amount[0],\n",
    "    second_production - second_sold_amount[1],\n",
    "    second_production - second_sold_amount[2]\n",
    "]\n",
    "second_unsatisfied_demand=[\n",
    "    demand[0] - second_production if demand[0] > second_production else 0,\n",
    "    demand[1] - second_production if demand[1] > second_production else 0,\n",
    "    demand[2] - second_production if demand[2] > second_production else 0\n",
    "]"
   ],
   "metadata": {
    "collapsed": false,
    "ExecuteTime": {
     "end_time": "2023-10-26T10:09:40.447991Z",
     "start_time": "2023-10-26T10:09:40.411114600Z"
    }
   },
   "id": "31838e0177808160"
  },
  {
   "cell_type": "code",
   "execution_count": 199,
   "outputs": [],
   "source": [
    "third_sold_amount = [\n",
    "    min(third_production, demand[0]),\n",
    "    min(third_production, demand[1]),\n",
    "    min(third_production, demand[2])\n",
    "]\n",
    "third_not_sold_amount = [\n",
    "    third_production - third_sold_amount[0],\n",
    "    third_production - third_sold_amount[1],\n",
    "    third_production - third_sold_amount[2]\n",
    "]\n",
    "third_unsatisfied_demand=[\n",
    "    demand[0] - third_production if demand[0] > third_production else 0,\n",
    "    demand[1] - third_production if demand[1] > third_production else 0,\n",
    "    demand[2] - third_production if demand[2] > third_production else 0\n",
    "]"
   ],
   "metadata": {
    "collapsed": false,
    "ExecuteTime": {
     "end_time": "2023-10-26T10:09:40.447991Z",
     "start_time": "2023-10-26T10:09:40.428227600Z"
    }
   },
   "id": "1f3ed8c5057f749e"
  },
  {
   "cell_type": "code",
   "execution_count": 200,
   "outputs": [
    {
     "name": "stdout",
     "output_type": "stream",
     "text": [
      "Обсяг 10 тон:\n"
     ]
    },
    {
     "data": {
      "text/plain": "   Ймовірність попиту  Виробництво  Попит  Продано  Не продано  Незадов. Попит\n0                  10           10     10       10           0               0\n1                  15           10     15       10           0               5\n2                  20           10     20       10           0              10",
      "text/html": "<div>\n<style scoped>\n    .dataframe tbody tr th:only-of-type {\n        vertical-align: middle;\n    }\n\n    .dataframe tbody tr th {\n        vertical-align: top;\n    }\n\n    .dataframe thead th {\n        text-align: right;\n    }\n</style>\n<table border=\"1\" class=\"dataframe\">\n  <thead>\n    <tr style=\"text-align: right;\">\n      <th></th>\n      <th>Ймовірність попиту</th>\n      <th>Виробництво</th>\n      <th>Попит</th>\n      <th>Продано</th>\n      <th>Не продано</th>\n      <th>Незадов. Попит</th>\n    </tr>\n  </thead>\n  <tbody>\n    <tr>\n      <th>0</th>\n      <td>10</td>\n      <td>10</td>\n      <td>10</td>\n      <td>10</td>\n      <td>0</td>\n      <td>0</td>\n    </tr>\n    <tr>\n      <th>1</th>\n      <td>15</td>\n      <td>10</td>\n      <td>15</td>\n      <td>10</td>\n      <td>0</td>\n      <td>5</td>\n    </tr>\n    <tr>\n      <th>2</th>\n      <td>20</td>\n      <td>10</td>\n      <td>20</td>\n      <td>10</td>\n      <td>0</td>\n      <td>10</td>\n    </tr>\n  </tbody>\n</table>\n</div>"
     },
     "metadata": {},
     "output_type": "display_data"
    },
    {
     "name": "stdout",
     "output_type": "stream",
     "text": [
      "Обсяг 15 тон:\n"
     ]
    },
    {
     "data": {
      "text/plain": "   Ймовірність попиту  Виробництво  Попит  Продано  Не продано  Незадов. Попит\n0                  10           15     10       10           5               0\n1                  15           15     15       15           0               0\n2                  20           15     20       15           0               5",
      "text/html": "<div>\n<style scoped>\n    .dataframe tbody tr th:only-of-type {\n        vertical-align: middle;\n    }\n\n    .dataframe tbody tr th {\n        vertical-align: top;\n    }\n\n    .dataframe thead th {\n        text-align: right;\n    }\n</style>\n<table border=\"1\" class=\"dataframe\">\n  <thead>\n    <tr style=\"text-align: right;\">\n      <th></th>\n      <th>Ймовірність попиту</th>\n      <th>Виробництво</th>\n      <th>Попит</th>\n      <th>Продано</th>\n      <th>Не продано</th>\n      <th>Незадов. Попит</th>\n    </tr>\n  </thead>\n  <tbody>\n    <tr>\n      <th>0</th>\n      <td>10</td>\n      <td>15</td>\n      <td>10</td>\n      <td>10</td>\n      <td>5</td>\n      <td>0</td>\n    </tr>\n    <tr>\n      <th>1</th>\n      <td>15</td>\n      <td>15</td>\n      <td>15</td>\n      <td>15</td>\n      <td>0</td>\n      <td>0</td>\n    </tr>\n    <tr>\n      <th>2</th>\n      <td>20</td>\n      <td>15</td>\n      <td>20</td>\n      <td>15</td>\n      <td>0</td>\n      <td>5</td>\n    </tr>\n  </tbody>\n</table>\n</div>"
     },
     "metadata": {},
     "output_type": "display_data"
    },
    {
     "name": "stdout",
     "output_type": "stream",
     "text": [
      "Обсяг 20 тон:\n"
     ]
    },
    {
     "data": {
      "text/plain": "   Ймовірність попиту  Виробництво  Попит  Продано  Не продано  Незадов. Попит\n0                  10           20     10       10          10               0\n1                  15           20     15       15           5               0\n2                  20           20     20       20           0               0",
      "text/html": "<div>\n<style scoped>\n    .dataframe tbody tr th:only-of-type {\n        vertical-align: middle;\n    }\n\n    .dataframe tbody tr th {\n        vertical-align: top;\n    }\n\n    .dataframe thead th {\n        text-align: right;\n    }\n</style>\n<table border=\"1\" class=\"dataframe\">\n  <thead>\n    <tr style=\"text-align: right;\">\n      <th></th>\n      <th>Ймовірність попиту</th>\n      <th>Виробництво</th>\n      <th>Попит</th>\n      <th>Продано</th>\n      <th>Не продано</th>\n      <th>Незадов. Попит</th>\n    </tr>\n  </thead>\n  <tbody>\n    <tr>\n      <th>0</th>\n      <td>10</td>\n      <td>20</td>\n      <td>10</td>\n      <td>10</td>\n      <td>10</td>\n      <td>0</td>\n    </tr>\n    <tr>\n      <th>1</th>\n      <td>15</td>\n      <td>20</td>\n      <td>15</td>\n      <td>15</td>\n      <td>5</td>\n      <td>0</td>\n    </tr>\n    <tr>\n      <th>2</th>\n      <td>20</td>\n      <td>20</td>\n      <td>20</td>\n      <td>20</td>\n      <td>0</td>\n      <td>0</td>\n    </tr>\n  </tbody>\n</table>\n</div>"
     },
     "metadata": {},
     "output_type": "display_data"
    }
   ],
   "source": [
    "import pandas as pd\n",
    "from IPython.display import display\n",
    "\n",
    "stock_income = [0.01, 0.01, 0.01]\n",
    "\n",
    "data = {\n",
    "    \"Ймовірність попиту\": demand,\n",
    "    \"Виробництво\": first_production,\n",
    "    \"Попит\": demand,\n",
    "    \"Продано\": first_sold_amount,\n",
    "    \"Не продано\": first_not_sold_amount,\n",
    "    \"Незадов. Попит\": first_unsatisfied_demand\n",
    "}\n",
    "first_df = pd.DataFrame(data)\n",
    "print('Обсяг 10 тон:')\n",
    "display(first_df)\n",
    "\n",
    "data = {\n",
    "    \"Ймовірність попиту\": demand,\n",
    "    \"Виробництво\": second_production,\n",
    "    \"Попит\": demand,\n",
    "    \"Продано\": second_sold_amount,\n",
    "    \"Не продано\": second_not_sold_amount,\n",
    "    \"Незадов. Попит\": second_unsatisfied_demand\n",
    "}\n",
    "second_df = pd.DataFrame(data)\n",
    "print('Обсяг 15 тон:')\n",
    "display(second_df)\n",
    "\n",
    "data = {\n",
    "    \"Ймовірність попиту\": demand,\n",
    "    \"Виробництво\": third_production,\n",
    "    \"Попит\": demand,\n",
    "    \"Продано\": third_sold_amount,\n",
    "    \"Не продано\": third_not_sold_amount,\n",
    "    \"Незадов. Попит\": third_unsatisfied_demand\n",
    "}\n",
    "third_df = pd.DataFrame(data)\n",
    "print('Обсяг 20 тон:')\n",
    "display(third_df)"
   ],
   "metadata": {
    "collapsed": false,
    "ExecuteTime": {
     "end_time": "2023-10-26T10:09:40.538484800Z",
     "start_time": "2023-10-26T10:09:40.453027600Z"
    }
   },
   "id": "b370c77e263acd7f"
  },
  {
   "cell_type": "code",
   "execution_count": 201,
   "outputs": [],
   "source": [
    "first_pure_profit= [\n",
    "    first_sold_amount[0] * (selling_price - production_costs) - production_costs * first_not_sold_amount[0],\n",
    "    first_sold_amount[1] * (selling_price - production_costs) - production_costs * first_not_sold_amount[1],\n",
    "    first_sold_amount[2] * (selling_price - production_costs) - production_costs * first_not_sold_amount[2]\n",
    "]\n",
    "second_pure_profit= [\n",
    "    second_sold_amount[0] * (selling_price - production_costs) - production_costs * second_not_sold_amount[0],\n",
    "    second_sold_amount[1] * (selling_price - production_costs) - production_costs * second_not_sold_amount[1],\n",
    "    second_sold_amount[2] * (selling_price - production_costs) - production_costs * second_not_sold_amount[2]\n",
    "]\n",
    "third_pure_profit= [\n",
    "    third_sold_amount[0] * (selling_price - production_costs) - production_costs * third_not_sold_amount[0],\n",
    "    third_sold_amount[1] * (selling_price - production_costs) - production_costs * third_not_sold_amount[1],\n",
    "    third_sold_amount[2] * (selling_price - production_costs) - production_costs * third_not_sold_amount[2]\n",
    "]"
   ],
   "metadata": {
    "collapsed": false,
    "ExecuteTime": {
     "end_time": "2023-10-26T10:09:40.558177200Z",
     "start_time": "2023-10-26T10:09:40.477854800Z"
    }
   },
   "id": "b54768253840febb"
  },
  {
   "cell_type": "code",
   "execution_count": 202,
   "outputs": [],
   "source": [
    "first_impure_profit= [\n",
    "    first_sold_amount[0] * (selling_price - production_costs) - \n",
    "          production_costs * first_not_sold_amount[0] - first_unsatisfied_demand[0] * fine,\n",
    "    first_sold_amount[1] * (selling_price - production_costs) - \n",
    "          production_costs * first_not_sold_amount[1] - first_unsatisfied_demand[1] * fine,\n",
    "    first_sold_amount[2] * (selling_price - production_costs) - \n",
    "          production_costs * first_not_sold_amount[2] - first_unsatisfied_demand[2] * fine\n",
    "]\n",
    "second_impure_profit= [\n",
    "    second_sold_amount[0] * (selling_price - production_costs) - \n",
    "          production_costs * second_not_sold_amount[0] - second_unsatisfied_demand[0] * fine,\n",
    "    second_sold_amount[1] * (selling_price - production_costs) - \n",
    "          production_costs * second_not_sold_amount[1] - second_unsatisfied_demand[1] * fine,\n",
    "    second_sold_amount[2] * (selling_price - production_costs) - \n",
    "          production_costs * second_not_sold_amount[2] - second_unsatisfied_demand[2] * fine\n",
    "]\n",
    "third_impure_profit= [\n",
    "    third_sold_amount[0] * (selling_price - production_costs) - \n",
    "          production_costs * third_not_sold_amount[0] - third_unsatisfied_demand[0] * fine,\n",
    "    third_sold_amount[1] * (selling_price - production_costs) - \n",
    "          production_costs * third_not_sold_amount[1] - third_unsatisfied_demand[1] * fine,\n",
    "    third_sold_amount[2] * (selling_price - production_costs) - \n",
    "          production_costs * third_not_sold_amount[2] - third_unsatisfied_demand[2] * fine\n",
    "]"
   ],
   "metadata": {
    "collapsed": false,
    "ExecuteTime": {
     "end_time": "2023-10-26T10:09:40.558177200Z",
     "start_time": "2023-10-26T10:09:40.497978300Z"
    }
   },
   "id": "1bb36ad76deaae52"
  },
  {
   "cell_type": "code",
   "execution_count": 203,
   "outputs": [
    {
     "name": "stdout",
     "output_type": "stream",
     "text": [
      "Обсяг 10 тон:\n"
     ]
    },
    {
     "data": {
      "text/plain": "   Ймовірність попиту  Очікуваний чистий дохід  \\\n0                  10                     9000   \n1                  15                     9000   \n2                  20                     9000   \n\n   Дохід, з урахув. незадов. попиту  \n0                              9000  \n1                              2000  \n2                             -5000  ",
      "text/html": "<div>\n<style scoped>\n    .dataframe tbody tr th:only-of-type {\n        vertical-align: middle;\n    }\n\n    .dataframe tbody tr th {\n        vertical-align: top;\n    }\n\n    .dataframe thead th {\n        text-align: right;\n    }\n</style>\n<table border=\"1\" class=\"dataframe\">\n  <thead>\n    <tr style=\"text-align: right;\">\n      <th></th>\n      <th>Ймовірність попиту</th>\n      <th>Очікуваний чистий дохід</th>\n      <th>Дохід, з урахув. незадов. попиту</th>\n    </tr>\n  </thead>\n  <tbody>\n    <tr>\n      <th>0</th>\n      <td>10</td>\n      <td>9000</td>\n      <td>9000</td>\n    </tr>\n    <tr>\n      <th>1</th>\n      <td>15</td>\n      <td>9000</td>\n      <td>2000</td>\n    </tr>\n    <tr>\n      <th>2</th>\n      <td>20</td>\n      <td>9000</td>\n      <td>-5000</td>\n    </tr>\n  </tbody>\n</table>\n</div>"
     },
     "metadata": {},
     "output_type": "display_data"
    },
    {
     "name": "stdout",
     "output_type": "stream",
     "text": [
      "Обсяг 15 тон:\n"
     ]
    },
    {
     "data": {
      "text/plain": "   Ймовірність попиту  Очікуваний чистий дохід  \\\n0                  10                     1500   \n1                  15                    13500   \n2                  20                    13500   \n\n   Дохід, з урахув. незадов. попиту  \n0                              1500  \n1                             13500  \n2                              6500  ",
      "text/html": "<div>\n<style scoped>\n    .dataframe tbody tr th:only-of-type {\n        vertical-align: middle;\n    }\n\n    .dataframe tbody tr th {\n        vertical-align: top;\n    }\n\n    .dataframe thead th {\n        text-align: right;\n    }\n</style>\n<table border=\"1\" class=\"dataframe\">\n  <thead>\n    <tr style=\"text-align: right;\">\n      <th></th>\n      <th>Ймовірність попиту</th>\n      <th>Очікуваний чистий дохід</th>\n      <th>Дохід, з урахув. незадов. попиту</th>\n    </tr>\n  </thead>\n  <tbody>\n    <tr>\n      <th>0</th>\n      <td>10</td>\n      <td>1500</td>\n      <td>1500</td>\n    </tr>\n    <tr>\n      <th>1</th>\n      <td>15</td>\n      <td>13500</td>\n      <td>13500</td>\n    </tr>\n    <tr>\n      <th>2</th>\n      <td>20</td>\n      <td>13500</td>\n      <td>6500</td>\n    </tr>\n  </tbody>\n</table>\n</div>"
     },
     "metadata": {},
     "output_type": "display_data"
    },
    {
     "name": "stdout",
     "output_type": "stream",
     "text": [
      "Обсяг 20 тон:\n"
     ]
    },
    {
     "data": {
      "text/plain": "   Ймовірність попиту  Очікуваний чистий дохід  \\\n0                  10                    -6000   \n1                  15                     6000   \n2                  20                    18000   \n\n   Дохід, з урахув. незадов. попиту  \n0                             -6000  \n1                              6000  \n2                             18000  ",
      "text/html": "<div>\n<style scoped>\n    .dataframe tbody tr th:only-of-type {\n        vertical-align: middle;\n    }\n\n    .dataframe tbody tr th {\n        vertical-align: top;\n    }\n\n    .dataframe thead th {\n        text-align: right;\n    }\n</style>\n<table border=\"1\" class=\"dataframe\">\n  <thead>\n    <tr style=\"text-align: right;\">\n      <th></th>\n      <th>Ймовірність попиту</th>\n      <th>Очікуваний чистий дохід</th>\n      <th>Дохід, з урахув. незадов. попиту</th>\n    </tr>\n  </thead>\n  <tbody>\n    <tr>\n      <th>0</th>\n      <td>10</td>\n      <td>-6000</td>\n      <td>-6000</td>\n    </tr>\n    <tr>\n      <th>1</th>\n      <td>15</td>\n      <td>6000</td>\n      <td>6000</td>\n    </tr>\n    <tr>\n      <th>2</th>\n      <td>20</td>\n      <td>18000</td>\n      <td>18000</td>\n    </tr>\n  </tbody>\n</table>\n</div>"
     },
     "metadata": {},
     "output_type": "display_data"
    }
   ],
   "source": [
    "data = {\n",
    "    \"Ймовірність попиту\": demand,\n",
    "    \"Очікуваний чистий дохід\": first_pure_profit,\n",
    "    \"Дохід, з урахув. незадов. попиту\": first_impure_profit\n",
    "}\n",
    "first_df = pd.DataFrame(data)\n",
    "print('Обсяг 10 тон:')\n",
    "display(first_df)\n",
    "\n",
    "data = {\n",
    "    \"Ймовірність попиту\": demand,\n",
    "    \"Очікуваний чистий дохід\": second_pure_profit,\n",
    "    \"Дохід, з урахув. незадов. попиту\": second_impure_profit\n",
    "}\n",
    "second_df = pd.DataFrame(data)\n",
    "print('Обсяг 15 тон:')\n",
    "display(second_df)\n",
    "\n",
    "data = {\n",
    "    \"Ймовірність попиту\": demand,\n",
    "    \"Очікуваний чистий дохід\": third_pure_profit,\n",
    "    \"Дохід, з урахув. незадов. попиту\": third_impure_profit\n",
    "}\n",
    "third_df = pd.DataFrame(data)\n",
    "print('Обсяг 20 тон:')\n",
    "display(third_df)"
   ],
   "metadata": {
    "collapsed": false,
    "ExecuteTime": {
     "end_time": "2023-10-26T10:09:40.688157Z",
     "start_time": "2023-10-26T10:09:40.507825Z"
    }
   },
   "id": "4400587d5c5d5aee"
  },
  {
   "cell_type": "code",
   "execution_count": 204,
   "outputs": [],
   "source": [
    "normalized_first_pure_income = (demand_probability[0] * first_pure_profit[0] + \n",
    "                                demand_probability[1] * first_pure_profit[1] + \n",
    "                                demand_probability[2] * first_pure_profit[2]) \n",
    "normalized_second_pure_income = (demand_probability[0] * second_pure_profit[0] + \n",
    "                                demand_probability[1] * second_pure_profit[1] + \n",
    "                                demand_probability[2] * second_pure_profit[2]) \n",
    "normalized_third_pure_income = (demand_probability[0] * third_pure_profit[0] + \n",
    "                                demand_probability[1] * third_pure_profit[1] + \n",
    "                                demand_probability[2] * third_pure_profit[2]) "
   ],
   "metadata": {
    "collapsed": false,
    "ExecuteTime": {
     "end_time": "2023-10-26T10:09:40.688157Z",
     "start_time": "2023-10-26T10:09:40.538484800Z"
    }
   },
   "id": "e50ce774d7b43d8f"
  },
  {
   "cell_type": "code",
   "execution_count": 205,
   "outputs": [],
   "source": [
    "normalized_first_impure_income = (demand_probability[0] * first_impure_profit[0] + \n",
    "                                demand_probability[1] * first_impure_profit[1] + \n",
    "                                demand_probability[2] * first_impure_profit[2]) \n",
    "normalized_second_impure_income = (demand_probability[0] * second_impure_profit[0] + \n",
    "                                demand_probability[1] * second_impure_profit[1] + \n",
    "                                demand_probability[2] * second_impure_profit[2]) \n",
    "normalized_third_impure_income = (demand_probability[0] * third_impure_profit[0] + \n",
    "                                demand_probability[1] * third_impure_profit[1] + \n",
    "                                demand_probability[2] * third_impure_profit[2]) "
   ],
   "metadata": {
    "collapsed": false,
    "ExecuteTime": {
     "end_time": "2023-10-26T10:09:40.767987400Z",
     "start_time": "2023-10-26T10:09:40.558177200Z"
    }
   },
   "id": "171e7093c22600a5"
  },
  {
   "cell_type": "code",
   "execution_count": 206,
   "outputs": [
    {
     "name": "stdout",
     "output_type": "stream",
     "text": [
      "Обсяг виробництва в 10т.\n",
      "Можливий чистий прибуток 9000.0\n",
      "Можливий дохід з урахув. незадов. попиту 3400.0\n",
      "\n",
      "\n",
      "Обсяг виробництва в 15т.\n",
      "Можливий чистий прибуток 9900.0\n",
      "Можливий дохід з урахув. незадов. попиту 9200.0\n",
      "\n",
      "\n",
      "Обсяг виробництва в 20т.\n",
      "Можливий чистий прибуток 3600.0\n",
      "Можливий дохід з урахув. незадов. попиту 3600.0\n"
     ]
    }
   ],
   "source": [
    "print('Обсяг виробництва в 10т.')\n",
    "print('Можливий чистий прибуток', normalized_first_pure_income)\n",
    "print('Можливий дохід з урахув. незадов. попиту', normalized_first_impure_income)\n",
    "print('\\n')\n",
    "\n",
    "print('Обсяг виробництва в 15т.')\n",
    "print('Можливий чистий прибуток', normalized_second_pure_income)\n",
    "print('Можливий дохід з урахув. незадов. попиту', normalized_second_impure_income)\n",
    "print('\\n')\n",
    "\n",
    "print('Обсяг виробництва в 20т.')\n",
    "print('Можливий чистий прибуток', normalized_third_pure_income)\n",
    "print('Можливий дохід з урахув. незадов. попиту', normalized_third_impure_income)"
   ],
   "metadata": {
    "collapsed": false,
    "ExecuteTime": {
     "end_time": "2023-10-26T10:09:40.778040600Z",
     "start_time": "2023-10-26T10:09:40.570170800Z"
    }
   },
   "id": "2963ec586e5bbbcb"
  }
 ],
 "metadata": {
  "kernelspec": {
   "display_name": "Python 3",
   "language": "python",
   "name": "python3"
  },
  "language_info": {
   "codemirror_mode": {
    "name": "ipython",
    "version": 2
   },
   "file_extension": ".py",
   "mimetype": "text/x-python",
   "name": "python",
   "nbconvert_exporter": "python",
   "pygments_lexer": "ipython2",
   "version": "2.7.6"
  }
 },
 "nbformat": 4,
 "nbformat_minor": 5
}
