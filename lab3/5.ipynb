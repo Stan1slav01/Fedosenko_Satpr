{
 "cells": [
  {
   "cell_type": "code",
   "execution_count": 1,
   "outputs": [],
   "source": [
    "inflation_probabilities = [0.20, 0.15, 0.65]\n",
    "initial_price = 100000\n",
    "bond_income = [0.08, 0.06, 0.075]\n",
    "bond_price_change = [0.10, 0.05, 0]"
   ],
   "metadata": {
    "collapsed": false,
    "ExecuteTime": {
     "end_time": "2023-10-26T12:46:43.243240Z",
     "start_time": "2023-10-26T12:46:43.097476100Z"
    }
   },
   "id": "626fd352c0b5e18"
  },
  {
   "cell_type": "code",
   "execution_count": 2,
   "outputs": [],
   "source": [
    "stock_income = [0.01, 0.01, 0.01]\n",
    "stock_price_change=[0.2, 0.2, 0.08]"
   ],
   "metadata": {
    "collapsed": false,
    "ExecuteTime": {
     "end_time": "2023-10-26T12:46:43.244238700Z",
     "start_time": "2023-10-26T12:46:43.129179900Z"
    }
   },
   "id": "e82b06dc0f1eb90b"
  },
  {
   "cell_type": "code",
   "execution_count": 3,
   "outputs": [
    {
     "name": "stdout",
     "output_type": "stream",
     "text": [
      "Таблиця облігацій\n"
     ]
    },
    {
     "data": {
      "text/plain": "      Інфляція  Ймовірність  Номінальна ціна  % дохід  \\\n0    Зростання         0.20           100000    0.080   \n1         Спад         0.15           100000    0.060   \n2  Незмінність         0.65           100000    0.075   \n\n   Зміна Номінальної ціни (%)  \n0                        0.10  \n1                        0.05  \n2                        0.00  ",
      "text/html": "<div>\n<style scoped>\n    .dataframe tbody tr th:only-of-type {\n        vertical-align: middle;\n    }\n\n    .dataframe tbody tr th {\n        vertical-align: top;\n    }\n\n    .dataframe thead th {\n        text-align: right;\n    }\n</style>\n<table border=\"1\" class=\"dataframe\">\n  <thead>\n    <tr style=\"text-align: right;\">\n      <th></th>\n      <th>Інфляція</th>\n      <th>Ймовірність</th>\n      <th>Номінальна ціна</th>\n      <th>% дохід</th>\n      <th>Зміна Номінальної ціни (%)</th>\n    </tr>\n  </thead>\n  <tbody>\n    <tr>\n      <th>0</th>\n      <td>Зростання</td>\n      <td>0.20</td>\n      <td>100000</td>\n      <td>0.080</td>\n      <td>0.10</td>\n    </tr>\n    <tr>\n      <th>1</th>\n      <td>Спад</td>\n      <td>0.15</td>\n      <td>100000</td>\n      <td>0.060</td>\n      <td>0.05</td>\n    </tr>\n    <tr>\n      <th>2</th>\n      <td>Незмінність</td>\n      <td>0.65</td>\n      <td>100000</td>\n      <td>0.075</td>\n      <td>0.00</td>\n    </tr>\n  </tbody>\n</table>\n</div>"
     },
     "metadata": {},
     "output_type": "display_data"
    },
    {
     "name": "stdout",
     "output_type": "stream",
     "text": [
      "Таблиця фонду\n"
     ]
    },
    {
     "data": {
      "text/plain": "      Інфляція  Ймовірність  Номінальна ціна  % дохід  \\\n0    Зростання         0.20           100000     0.01   \n1         Спад         0.15           100000     0.01   \n2  Незмінність         0.65           100000     0.01   \n\n   Зміна Номінальної ціни (%)  \n0                        0.20  \n1                        0.20  \n2                        0.08  ",
      "text/html": "<div>\n<style scoped>\n    .dataframe tbody tr th:only-of-type {\n        vertical-align: middle;\n    }\n\n    .dataframe tbody tr th {\n        vertical-align: top;\n    }\n\n    .dataframe thead th {\n        text-align: right;\n    }\n</style>\n<table border=\"1\" class=\"dataframe\">\n  <thead>\n    <tr style=\"text-align: right;\">\n      <th></th>\n      <th>Інфляція</th>\n      <th>Ймовірність</th>\n      <th>Номінальна ціна</th>\n      <th>% дохід</th>\n      <th>Зміна Номінальної ціни (%)</th>\n    </tr>\n  </thead>\n  <tbody>\n    <tr>\n      <th>0</th>\n      <td>Зростання</td>\n      <td>0.20</td>\n      <td>100000</td>\n      <td>0.01</td>\n      <td>0.20</td>\n    </tr>\n    <tr>\n      <th>1</th>\n      <td>Спад</td>\n      <td>0.15</td>\n      <td>100000</td>\n      <td>0.01</td>\n      <td>0.20</td>\n    </tr>\n    <tr>\n      <th>2</th>\n      <td>Незмінність</td>\n      <td>0.65</td>\n      <td>100000</td>\n      <td>0.01</td>\n      <td>0.08</td>\n    </tr>\n  </tbody>\n</table>\n</div>"
     },
     "metadata": {},
     "output_type": "display_data"
    }
   ],
   "source": [
    "import pandas as pd\n",
    "from IPython.display import display\n",
    "\n",
    "scenarios = [\"Зростання\", \"Спад\", \"Незмінність\"]\n",
    "stock_income = [0.01, 0.01, 0.01]\n",
    "\n",
    "data = {\n",
    "    \"Інфляція\": scenarios,\n",
    "    \"Ймовірність\": inflation_probabilities,\n",
    "    \"Номінальна ціна\": [initial_price] * len(scenarios),\n",
    "    \"% дохід\": bond_income,\n",
    "    \"Зміна Номінальної ціни (%)\": bond_price_change\n",
    "}\n",
    "bonds_df = pd.DataFrame(data)\n",
    "print('Таблиця облігацій')\n",
    "display(bonds_df)\n",
    "\n",
    "print('Таблиця фонду')\n",
    "data = {\n",
    "    \"Інфляція\": scenarios,\n",
    "    \"Ймовірність\": inflation_probabilities,\n",
    "    \"Номінальна ціна\": [initial_price] * len(scenarios),\n",
    "    \"% дохід\": stock_income,\n",
    "    \"Зміна Номінальної ціни (%)\": stock_price_change\n",
    "}\n",
    "stocks_df = pd.DataFrame(data)\n",
    "display(stocks_df)"
   ],
   "metadata": {
    "collapsed": false,
    "ExecuteTime": {
     "end_time": "2023-10-26T12:46:45.883426300Z",
     "start_time": "2023-10-26T12:46:43.168217900Z"
    }
   },
   "id": "bd118e5d1885ea8e"
  },
  {
   "cell_type": "code",
   "execution_count": 4,
   "outputs": [
    {
     "name": "stdout",
     "output_type": "stream",
     "text": [
      "Прибуток від облігацій при зростанні, спаді та незмінності\n",
      "[118000.0, 111000.0, 107500.0]\n",
      "Прибуток від фонду при зростанні, спаді та незмінності\n",
      "[121000.0, 121000.0, 109000.0]\n"
     ]
    }
   ],
   "source": [
    "bonds_total_income = [\n",
    "    initial_price + (bond_income[0] * initial_price) + (bond_price_change[0] * initial_price),\n",
    "    initial_price + (bond_income[1] * initial_price) + (bond_price_change[1] * initial_price),\n",
    "    initial_price + (bond_income[2] * initial_price) + (bond_price_change[2] * initial_price)\n",
    "]\n",
    "\n",
    "stocks_total_income = [\n",
    "    initial_price + (stock_income[0] * initial_price) + (stock_price_change[0] * initial_price),\n",
    "    initial_price + (stock_income[1] * initial_price) + (stock_price_change[1] * initial_price),\n",
    "    initial_price + (stock_income[2] * initial_price) + (stock_price_change[2] * initial_price)\n",
    "]\n",
    "print('Прибуток від облігацій при зростанні, спаді та незмінності')\n",
    "print(bonds_total_income)\n",
    "\n",
    "print('Прибуток від фонду при зростанні, спаді та незмінності')\n",
    "print(stocks_total_income)"
   ],
   "metadata": {
    "collapsed": false,
    "ExecuteTime": {
     "end_time": "2023-10-26T12:46:45.892941800Z",
     "start_time": "2023-10-26T12:46:45.777665500Z"
    }
   },
   "id": "b2a131693b6b7dfe"
  },
  {
   "cell_type": "code",
   "execution_count": 5,
   "outputs": [
    {
     "name": "stdout",
     "output_type": "stream",
     "text": [
      "Можливий прибуток від облігацій: 110125.0\n",
      "Можливий прибуток від фонду: 113200.0\n"
     ]
    }
   ],
   "source": [
    "normalized_bonds_income = 0\n",
    "for i in range(len(bonds_total_income)):\n",
    "    normalized_bonds_income += bonds_total_income[i] * inflation_probabilities[i]\n",
    "    \n",
    "print('Можливий прибуток від облігацій:',normalized_bonds_income)\n",
    "\n",
    "normalized_stocks_income = 0\n",
    "for i in range(len(stocks_total_income)):\n",
    "    normalized_stocks_income += stocks_total_income[i] * inflation_probabilities[i]\n",
    "    \n",
    "print('Можливий прибуток від фонду:',normalized_stocks_income)\n",
    "    "
   ],
   "metadata": {
    "collapsed": false,
    "ExecuteTime": {
     "end_time": "2023-10-26T12:46:45.893941300Z",
     "start_time": "2023-10-26T12:46:45.801837500Z"
    }
   },
   "id": "cfd44958fdb0b721"
  }
 ],
 "metadata": {
  "kernelspec": {
   "display_name": "Python 3",
   "language": "python",
   "name": "python3"
  },
  "language_info": {
   "codemirror_mode": {
    "name": "ipython",
    "version": 2
   },
   "file_extension": ".py",
   "mimetype": "text/x-python",
   "name": "python",
   "nbconvert_exporter": "python",
   "pygments_lexer": "ipython2",
   "version": "2.7.6"
  }
 },
 "nbformat": 4,
 "nbformat_minor": 5
}
