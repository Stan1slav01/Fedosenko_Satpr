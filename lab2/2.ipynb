{
 "cells": [
  {
   "cell_type": "code",
   "execution_count": 1,
   "id": "5705086db683b70d",
   "metadata": {
    "ExecuteTime": {
     "end_time": "2023-10-19T12:06:17.767079800Z",
     "start_time": "2023-10-19T12:06:17.726301Z"
    },
    "collapsed": false
   },
   "outputs": [],
   "source": [
    "import numpy as np\n",
    "import pandas as pd\n",
    "import seaborn as sea\n",
    "import matplotlib.pyplot as plt"
   ]
  },
  {
   "cell_type": "raw",
   "id": "bad533935fc8d1a0",
   "metadata": {
    "collapsed": false
   },
   "source": [
    "Додаємо функції, які будемо потім використовувати"
   ]
  },
  {
   "cell_type": "code",
   "execution_count": 2,
   "id": "625a343f74c37aeb",
   "metadata": {
    "ExecuteTime": {
     "end_time": "2023-10-19T12:06:17.835759Z",
     "start_time": "2023-10-19T12:06:17.736821200Z"
    },
    "collapsed": false
   },
   "outputs": [],
   "source": [
    "def geomean(arr):\n",
    "    return np.exp(np.log(arr).mean())"
   ]
  },
  {
   "cell_type": "code",
   "execution_count": 3,
   "id": "529fa619b7933a32",
   "metadata": {
    "ExecuteTime": {
     "end_time": "2023-10-19T12:06:17.835759Z",
     "start_time": "2023-10-19T12:06:17.748345200Z"
    },
    "collapsed": false
   },
   "outputs": [],
   "source": [
    "# середнє значення оцінок пріоритетності\n",
    "def calculate_wi(matrix):\n",
    "    result = []\n",
    "    for array in matrix:\n",
    "        result.append(geomean(array))\n",
    "    return result"
   ]
  },
  {
   "cell_type": "code",
   "execution_count": 4,
   "id": "609a750033c6e760",
   "metadata": {
    "ExecuteTime": {
     "end_time": "2023-10-19T12:06:17.836789Z",
     "start_time": "2023-10-19T12:06:17.773594300Z"
    },
    "collapsed": false
   },
   "outputs": [],
   "source": [
    "# вектор пріоритетів\n",
    "def vector_normal(arr):\n",
    "    result = []\n",
    "    sum = np.sum(arr)\n",
    "    for w in arr:\n",
    "        result.append(w/sum)\n",
    "    return result"
   ]
  },
  {
   "cell_type": "raw",
   "id": "70530dd41782a47e",
   "metadata": {
    "collapsed": false
   },
   "source": [
    "Зчитуєм дані з excel таблиць"
   ]
  },
  {
   "cell_type": "code",
   "execution_count": 5,
   "id": "a3c995fc1f957421",
   "metadata": {
    "ExecuteTime": {
     "end_time": "2023-10-19T12:06:17.839757900Z",
     "start_time": "2023-10-19T12:06:17.786142Z"
    },
    "collapsed": false
   },
   "outputs": [
    {
     "ename": "ImportError",
     "evalue": "Missing optional dependency 'openpyxl'.  Use pip or conda to install openpyxl.",
     "output_type": "error",
     "traceback": [
      "\u001b[1;31m---------------------------------------------------------------------------\u001b[0m",
      "\u001b[1;31mModuleNotFoundError\u001b[0m                       Traceback (most recent call last)",
      "File \u001b[1;32md:\\miniconda\\envs\\myenv\\lib\\site-packages\\pandas\\compat\\_optional.py:132\u001b[0m, in \u001b[0;36mimport_optional_dependency\u001b[1;34m(name, extra, errors, min_version)\u001b[0m\n\u001b[0;32m    131\u001b[0m \u001b[38;5;28;01mtry\u001b[39;00m:\n\u001b[1;32m--> 132\u001b[0m     module \u001b[38;5;241m=\u001b[39m \u001b[43mimportlib\u001b[49m\u001b[38;5;241;43m.\u001b[39;49m\u001b[43mimport_module\u001b[49m\u001b[43m(\u001b[49m\u001b[43mname\u001b[49m\u001b[43m)\u001b[49m\n\u001b[0;32m    133\u001b[0m \u001b[38;5;28;01mexcept\u001b[39;00m \u001b[38;5;167;01mImportError\u001b[39;00m:\n",
      "File \u001b[1;32md:\\miniconda\\envs\\myenv\\lib\\importlib\\__init__.py:126\u001b[0m, in \u001b[0;36mimport_module\u001b[1;34m(name, package)\u001b[0m\n\u001b[0;32m    125\u001b[0m         level \u001b[38;5;241m+\u001b[39m\u001b[38;5;241m=\u001b[39m \u001b[38;5;241m1\u001b[39m\n\u001b[1;32m--> 126\u001b[0m \u001b[38;5;28;01mreturn\u001b[39;00m \u001b[43m_bootstrap\u001b[49m\u001b[38;5;241;43m.\u001b[39;49m\u001b[43m_gcd_import\u001b[49m\u001b[43m(\u001b[49m\u001b[43mname\u001b[49m\u001b[43m[\u001b[49m\u001b[43mlevel\u001b[49m\u001b[43m:\u001b[49m\u001b[43m]\u001b[49m\u001b[43m,\u001b[49m\u001b[43m \u001b[49m\u001b[43mpackage\u001b[49m\u001b[43m,\u001b[49m\u001b[43m \u001b[49m\u001b[43mlevel\u001b[49m\u001b[43m)\u001b[49m\n",
      "File \u001b[1;32m<frozen importlib._bootstrap>:1050\u001b[0m, in \u001b[0;36m_gcd_import\u001b[1;34m(name, package, level)\u001b[0m\n",
      "File \u001b[1;32m<frozen importlib._bootstrap>:1027\u001b[0m, in \u001b[0;36m_find_and_load\u001b[1;34m(name, import_)\u001b[0m\n",
      "File \u001b[1;32m<frozen importlib._bootstrap>:1004\u001b[0m, in \u001b[0;36m_find_and_load_unlocked\u001b[1;34m(name, import_)\u001b[0m\n",
      "\u001b[1;31mModuleNotFoundError\u001b[0m: No module named 'openpyxl'",
      "\nDuring handling of the above exception, another exception occurred:\n",
      "\u001b[1;31mImportError\u001b[0m                               Traceback (most recent call last)",
      "Cell \u001b[1;32mIn[5], line 1\u001b[0m\n\u001b[1;32m----> 1\u001b[0m df1 \u001b[38;5;241m=\u001b[39m \u001b[43mpd\u001b[49m\u001b[38;5;241;43m.\u001b[39;49m\u001b[43mread_excel\u001b[49m\u001b[43m(\u001b[49m\u001b[38;5;124;43m'\u001b[39;49m\u001b[38;5;124;43mLab_2.xlsx\u001b[39;49m\u001b[38;5;124;43m'\u001b[39;49m\u001b[43m,\u001b[49m\u001b[43m \u001b[49m\u001b[43msheet_name\u001b[49m\u001b[38;5;241;43m=\u001b[39;49m\u001b[38;5;124;43m'\u001b[39;49m\u001b[38;5;124;43mетап 1\u001b[39;49m\u001b[38;5;124;43m'\u001b[39;49m\u001b[43m,\u001b[49m\u001b[43mheader\u001b[49m\u001b[38;5;241;43m=\u001b[39;49m\u001b[38;5;28;43;01mNone\u001b[39;49;00m\u001b[43m,\u001b[49m\u001b[43m \u001b[49m\u001b[43mskiprows\u001b[49m\u001b[38;5;241;43m=\u001b[39;49m\u001b[38;5;241;43m6\u001b[39;49m\u001b[43m,\u001b[49m\u001b[43m \u001b[49m\u001b[43musecols\u001b[49m\u001b[38;5;241;43m=\u001b[39;49m\u001b[38;5;124;43m'\u001b[39;49m\u001b[38;5;124;43mF:I\u001b[39;49m\u001b[38;5;124;43m'\u001b[39;49m\u001b[43m,\u001b[49m\u001b[43m \u001b[49m\u001b[43mnrows\u001b[49m\u001b[38;5;241;43m=\u001b[39;49m\u001b[38;5;241;43m4\u001b[39;49m\u001b[43m)\u001b[49m\n\u001b[0;32m      2\u001b[0m df2 \u001b[38;5;241m=\u001b[39m pd\u001b[38;5;241m.\u001b[39mread_excel(\u001b[38;5;124m'\u001b[39m\u001b[38;5;124mLab_2.xlsx\u001b[39m\u001b[38;5;124m'\u001b[39m, sheet_name\u001b[38;5;241m=\u001b[39m\u001b[38;5;124m'\u001b[39m\u001b[38;5;124mетап 1\u001b[39m\u001b[38;5;124m'\u001b[39m,header\u001b[38;5;241m=\u001b[39m\u001b[38;5;28;01mNone\u001b[39;00m, skiprows\u001b[38;5;241m=\u001b[39m\u001b[38;5;241m15\u001b[39m, usecols\u001b[38;5;241m=\u001b[39m\u001b[38;5;124m'\u001b[39m\u001b[38;5;124mF:I\u001b[39m\u001b[38;5;124m'\u001b[39m, nrows\u001b[38;5;241m=\u001b[39m\u001b[38;5;241m4\u001b[39m)\n\u001b[0;32m      4\u001b[0m first_matrix \u001b[38;5;241m=\u001b[39m df1\u001b[38;5;241m.\u001b[39mto_numpy()\n",
      "File \u001b[1;32md:\\miniconda\\envs\\myenv\\lib\\site-packages\\pandas\\io\\excel\\_base.py:504\u001b[0m, in \u001b[0;36mread_excel\u001b[1;34m(io, sheet_name, header, names, index_col, usecols, dtype, engine, converters, true_values, false_values, skiprows, nrows, na_values, keep_default_na, na_filter, verbose, parse_dates, date_parser, date_format, thousands, decimal, comment, skipfooter, storage_options, dtype_backend, engine_kwargs)\u001b[0m\n\u001b[0;32m    502\u001b[0m \u001b[38;5;28;01mif\u001b[39;00m \u001b[38;5;129;01mnot\u001b[39;00m \u001b[38;5;28misinstance\u001b[39m(io, ExcelFile):\n\u001b[0;32m    503\u001b[0m     should_close \u001b[38;5;241m=\u001b[39m \u001b[38;5;28;01mTrue\u001b[39;00m\n\u001b[1;32m--> 504\u001b[0m     io \u001b[38;5;241m=\u001b[39m \u001b[43mExcelFile\u001b[49m\u001b[43m(\u001b[49m\n\u001b[0;32m    505\u001b[0m \u001b[43m        \u001b[49m\u001b[43mio\u001b[49m\u001b[43m,\u001b[49m\n\u001b[0;32m    506\u001b[0m \u001b[43m        \u001b[49m\u001b[43mstorage_options\u001b[49m\u001b[38;5;241;43m=\u001b[39;49m\u001b[43mstorage_options\u001b[49m\u001b[43m,\u001b[49m\n\u001b[0;32m    507\u001b[0m \u001b[43m        \u001b[49m\u001b[43mengine\u001b[49m\u001b[38;5;241;43m=\u001b[39;49m\u001b[43mengine\u001b[49m\u001b[43m,\u001b[49m\n\u001b[0;32m    508\u001b[0m \u001b[43m        \u001b[49m\u001b[43mengine_kwargs\u001b[49m\u001b[38;5;241;43m=\u001b[39;49m\u001b[43mengine_kwargs\u001b[49m\u001b[43m,\u001b[49m\n\u001b[0;32m    509\u001b[0m \u001b[43m    \u001b[49m\u001b[43m)\u001b[49m\n\u001b[0;32m    510\u001b[0m \u001b[38;5;28;01melif\u001b[39;00m engine \u001b[38;5;129;01mand\u001b[39;00m engine \u001b[38;5;241m!=\u001b[39m io\u001b[38;5;241m.\u001b[39mengine:\n\u001b[0;32m    511\u001b[0m     \u001b[38;5;28;01mraise\u001b[39;00m \u001b[38;5;167;01mValueError\u001b[39;00m(\n\u001b[0;32m    512\u001b[0m         \u001b[38;5;124m\"\u001b[39m\u001b[38;5;124mEngine should not be specified when passing \u001b[39m\u001b[38;5;124m\"\u001b[39m\n\u001b[0;32m    513\u001b[0m         \u001b[38;5;124m\"\u001b[39m\u001b[38;5;124man ExcelFile - ExcelFile already has the engine set\u001b[39m\u001b[38;5;124m\"\u001b[39m\n\u001b[0;32m    514\u001b[0m     )\n",
      "File \u001b[1;32md:\\miniconda\\envs\\myenv\\lib\\site-packages\\pandas\\io\\excel\\_base.py:1580\u001b[0m, in \u001b[0;36mExcelFile.__init__\u001b[1;34m(self, path_or_buffer, engine, storage_options, engine_kwargs)\u001b[0m\n\u001b[0;32m   1577\u001b[0m \u001b[38;5;28mself\u001b[39m\u001b[38;5;241m.\u001b[39mengine \u001b[38;5;241m=\u001b[39m engine\n\u001b[0;32m   1578\u001b[0m \u001b[38;5;28mself\u001b[39m\u001b[38;5;241m.\u001b[39mstorage_options \u001b[38;5;241m=\u001b[39m storage_options\n\u001b[1;32m-> 1580\u001b[0m \u001b[38;5;28mself\u001b[39m\u001b[38;5;241m.\u001b[39m_reader \u001b[38;5;241m=\u001b[39m \u001b[38;5;28;43mself\u001b[39;49m\u001b[38;5;241;43m.\u001b[39;49m\u001b[43m_engines\u001b[49m\u001b[43m[\u001b[49m\u001b[43mengine\u001b[49m\u001b[43m]\u001b[49m\u001b[43m(\u001b[49m\n\u001b[0;32m   1581\u001b[0m \u001b[43m    \u001b[49m\u001b[38;5;28;43mself\u001b[39;49m\u001b[38;5;241;43m.\u001b[39;49m\u001b[43m_io\u001b[49m\u001b[43m,\u001b[49m\n\u001b[0;32m   1582\u001b[0m \u001b[43m    \u001b[49m\u001b[43mstorage_options\u001b[49m\u001b[38;5;241;43m=\u001b[39;49m\u001b[43mstorage_options\u001b[49m\u001b[43m,\u001b[49m\n\u001b[0;32m   1583\u001b[0m \u001b[43m    \u001b[49m\u001b[43mengine_kwargs\u001b[49m\u001b[38;5;241;43m=\u001b[39;49m\u001b[43mengine_kwargs\u001b[49m\u001b[43m,\u001b[49m\n\u001b[0;32m   1584\u001b[0m \u001b[43m\u001b[49m\u001b[43m)\u001b[49m\n",
      "File \u001b[1;32md:\\miniconda\\envs\\myenv\\lib\\site-packages\\pandas\\io\\excel\\_openpyxl.py:552\u001b[0m, in \u001b[0;36mOpenpyxlReader.__init__\u001b[1;34m(self, filepath_or_buffer, storage_options, engine_kwargs)\u001b[0m\n\u001b[0;32m    534\u001b[0m \u001b[38;5;129m@doc\u001b[39m(storage_options\u001b[38;5;241m=\u001b[39m_shared_docs[\u001b[38;5;124m\"\u001b[39m\u001b[38;5;124mstorage_options\u001b[39m\u001b[38;5;124m\"\u001b[39m])\n\u001b[0;32m    535\u001b[0m \u001b[38;5;28;01mdef\u001b[39;00m \u001b[38;5;21m__init__\u001b[39m(\n\u001b[0;32m    536\u001b[0m     \u001b[38;5;28mself\u001b[39m,\n\u001b[1;32m   (...)\u001b[0m\n\u001b[0;32m    539\u001b[0m     engine_kwargs: \u001b[38;5;28mdict\u001b[39m \u001b[38;5;241m|\u001b[39m \u001b[38;5;28;01mNone\u001b[39;00m \u001b[38;5;241m=\u001b[39m \u001b[38;5;28;01mNone\u001b[39;00m,\n\u001b[0;32m    540\u001b[0m ) \u001b[38;5;241m-\u001b[39m\u001b[38;5;241m>\u001b[39m \u001b[38;5;28;01mNone\u001b[39;00m:\n\u001b[0;32m    541\u001b[0m \u001b[38;5;250m    \u001b[39m\u001b[38;5;124;03m\"\"\"\u001b[39;00m\n\u001b[0;32m    542\u001b[0m \u001b[38;5;124;03m    Reader using openpyxl engine.\u001b[39;00m\n\u001b[0;32m    543\u001b[0m \n\u001b[1;32m   (...)\u001b[0m\n\u001b[0;32m    550\u001b[0m \u001b[38;5;124;03m        Arbitrary keyword arguments passed to excel engine.\u001b[39;00m\n\u001b[0;32m    551\u001b[0m \u001b[38;5;124;03m    \"\"\"\u001b[39;00m\n\u001b[1;32m--> 552\u001b[0m     \u001b[43mimport_optional_dependency\u001b[49m\u001b[43m(\u001b[49m\u001b[38;5;124;43m\"\u001b[39;49m\u001b[38;5;124;43mopenpyxl\u001b[39;49m\u001b[38;5;124;43m\"\u001b[39;49m\u001b[43m)\u001b[49m\n\u001b[0;32m    553\u001b[0m     \u001b[38;5;28msuper\u001b[39m()\u001b[38;5;241m.\u001b[39m\u001b[38;5;21m__init__\u001b[39m(\n\u001b[0;32m    554\u001b[0m         filepath_or_buffer,\n\u001b[0;32m    555\u001b[0m         storage_options\u001b[38;5;241m=\u001b[39mstorage_options,\n\u001b[0;32m    556\u001b[0m         engine_kwargs\u001b[38;5;241m=\u001b[39mengine_kwargs,\n\u001b[0;32m    557\u001b[0m     )\n",
      "File \u001b[1;32md:\\miniconda\\envs\\myenv\\lib\\site-packages\\pandas\\compat\\_optional.py:135\u001b[0m, in \u001b[0;36mimport_optional_dependency\u001b[1;34m(name, extra, errors, min_version)\u001b[0m\n\u001b[0;32m    133\u001b[0m \u001b[38;5;28;01mexcept\u001b[39;00m \u001b[38;5;167;01mImportError\u001b[39;00m:\n\u001b[0;32m    134\u001b[0m     \u001b[38;5;28;01mif\u001b[39;00m errors \u001b[38;5;241m==\u001b[39m \u001b[38;5;124m\"\u001b[39m\u001b[38;5;124mraise\u001b[39m\u001b[38;5;124m\"\u001b[39m:\n\u001b[1;32m--> 135\u001b[0m         \u001b[38;5;28;01mraise\u001b[39;00m \u001b[38;5;167;01mImportError\u001b[39;00m(msg)\n\u001b[0;32m    136\u001b[0m     \u001b[38;5;28;01mreturn\u001b[39;00m \u001b[38;5;28;01mNone\u001b[39;00m\n\u001b[0;32m    138\u001b[0m \u001b[38;5;66;03m# Handle submodules: if we have submodule, grab parent module from sys.modules\u001b[39;00m\n",
      "\u001b[1;31mImportError\u001b[0m: Missing optional dependency 'openpyxl'.  Use pip or conda to install openpyxl."
     ]
    }
   ],
   "source": [
    "df1 = pd.read_excel('Lab_2.xlsx', sheet_name='етап 1',header=None, skiprows=6, usecols='F:I', nrows=4)\n",
    "df2 = pd.read_excel('Lab_2.xlsx', sheet_name='етап 1',header=None, skiprows=15, usecols='F:I', nrows=4)\n",
    "\n",
    "first_matrix = df1.to_numpy()\n",
    "second_matrix = df2.to_numpy()\n",
    "\n",
    "first_vector = vector_normal(calculate_wi(first_matrix))\n",
    "second_vector = vector_normal(calculate_wi(second_matrix))\n",
    "\n",
    "first_step_result = []\n",
    "for i in range(len(first_vector)):\n",
    "    first_step_result.append(geomean([first_vector[i], second_vector[i]])) "
   ]
  },
  {
   "cell_type": "raw",
   "id": "6e79b871e4ee36a9",
   "metadata": {
    "collapsed": false
   },
   "source": [
    "Проводимо визначення пріоритетів альтернатив за кожним з критеріїв"
   ]
  },
  {
   "cell_type": "code",
   "execution_count": null,
   "id": "310c5c3b64be148e",
   "metadata": {
    "ExecuteTime": {
     "end_time": "2023-10-19T12:06:18.030028100Z",
     "start_time": "2023-10-19T12:06:17.849286500Z"
    },
    "collapsed": false
   },
   "outputs": [],
   "source": [
    "first_k1 = pd.read_excel('Lab_2.xlsx', sheet_name='етап 2.1',header=None, skiprows=7, usecols='C:F', nrows=4)\n",
    "first_k2 = pd.read_excel('Lab_2.xlsx', sheet_name='етап 2.1',header=None, skiprows=7, usecols='K:N', nrows=4)\n",
    "first_k3 = pd.read_excel('Lab_2.xlsx', sheet_name='етап 2.1',header=None, skiprows=16, usecols='C:F', nrows=4)\n",
    "first_k4 = pd.read_excel('Lab_2.xlsx', sheet_name='етап 2.1',header=None, skiprows=16, usecols='K:N', nrows=4)\n",
    "\n",
    "second_k1 = pd.read_excel('Lab_2.xlsx', sheet_name='етап 2.2',header=None, skiprows=7, usecols='C:F', nrows=4)\n",
    "second_k2 = pd.read_excel('Lab_2.xlsx', sheet_name='етап 2.2',header=None, skiprows=7, usecols='K:N', nrows=4)\n",
    "second_k3 = pd.read_excel('Lab_2.xlsx', sheet_name='етап 2.2',header=None, skiprows=16, usecols='C:F', nrows=4)\n",
    "second_k4 = pd.read_excel('Lab_2.xlsx', sheet_name='етап 2.2',header=None, skiprows=16, usecols='K:N', nrows=4)"
   ]
  },
  {
   "cell_type": "code",
   "execution_count": null,
   "id": "51a4d14c7c3a8507",
   "metadata": {
    "ExecuteTime": {
     "end_time": "2023-10-19T12:06:18.044121300Z",
     "start_time": "2023-10-19T12:06:18.035546400Z"
    },
    "collapsed": false
   },
   "outputs": [],
   "source": [
    "first_k1_matrix = first_k1.to_numpy()\n",
    "first_k2_matrix = first_k2.to_numpy()\n",
    "first_k3_matrix = first_k3.to_numpy()\n",
    "first_k4_matrix = first_k4.to_numpy()\n",
    "\n",
    "second_k1_matrix = second_k1.to_numpy()\n",
    "second_k2_matrix = second_k2.to_numpy() \n",
    "second_k3_matrix = second_k3.to_numpy()\n",
    "second_k4_matrix = second_k4.to_numpy()"
   ]
  },
  {
   "cell_type": "code",
   "execution_count": null,
   "id": "548ec5aa6d848a47",
   "metadata": {
    "ExecuteTime": {
     "end_time": "2023-10-19T12:06:18.085845Z",
     "start_time": "2023-10-19T12:06:18.051182700Z"
    },
    "collapsed": false
   },
   "outputs": [],
   "source": [
    "first_k1_vector = vector_normal(calculate_wi(first_k1_matrix))\n",
    "first_k2_vector = vector_normal(calculate_wi(first_k2_matrix))\n",
    "first_k3_vector = vector_normal(calculate_wi(first_k3_matrix))\n",
    "first_k4_vector = vector_normal(calculate_wi(first_k4_matrix))\n",
    "\n",
    "second_k1_vector = vector_normal(calculate_wi(second_k1_matrix))\n",
    "second_k2_vector = vector_normal(calculate_wi(second_k2_matrix))\n",
    "second_k3_vector = vector_normal(calculate_wi(second_k3_matrix))\n",
    "second_k4_vector = vector_normal(calculate_wi(second_k4_matrix))"
   ]
  },
  {
   "cell_type": "code",
   "execution_count": null,
   "id": "73388bb996c958d0",
   "metadata": {
    "ExecuteTime": {
     "end_time": "2023-10-19T12:06:18.086846600Z",
     "start_time": "2023-10-19T12:06:18.066748200Z"
    },
    "collapsed": false
   },
   "outputs": [],
   "source": [
    "k1_result = []\n",
    "k2_result = []\n",
    "k3_result = []\n",
    "k4_result = []"
   ]
  },
  {
   "cell_type": "code",
   "execution_count": null,
   "id": "40f63ad3f3594edd",
   "metadata": {
    "ExecuteTime": {
     "end_time": "2023-10-19T12:06:18.095353200Z",
     "start_time": "2023-10-19T12:06:18.082802600Z"
    },
    "collapsed": false
   },
   "outputs": [],
   "source": [
    "for i in range(len(first_k1_vector)):\n",
    "    k1_result.append(np.max([first_k1_vector[i],second_k1_vector[i]]))\n",
    "    k2_result.append(np.max([first_k2_vector[i],second_k2_vector[i]]))\n",
    "    k3_result.append(np.max([first_k3_vector[i],second_k3_vector[i]]))\n",
    "    k4_result.append(np.max([first_k4_vector[i],second_k4_vector[i]]))"
   ]
  },
  {
   "cell_type": "raw",
   "id": "2a35d9e65937bde",
   "metadata": {
    "collapsed": false
   },
   "source": [
    "Визначимо глобальні пріорітети та побудуємо діаграму"
   ]
  },
  {
   "cell_type": "code",
   "execution_count": null,
   "id": "11ef37ee9406a81d",
   "metadata": {
    "ExecuteTime": {
     "end_time": "2023-10-19T12:06:18.326131300Z",
     "start_time": "2023-10-19T12:06:18.099352300Z"
    },
    "collapsed": false
   },
   "outputs": [
    {
     "data": {
      "image/png": "[encoded data removed]",
      "text/plain": [
       "<Figure size 640x480 with 1 Axes>"
      ]
     },
     "metadata": {},
     "output_type": "display_data"
    }
   ],
   "source": [
    "final_result = []\n",
    "for i in range(len(k1_result)):\n",
    "     final_result.append(first_step_result[0]*k1_result[i]+\n",
    "                         first_step_result[1]*k2_result[i]+\n",
    "                         first_step_result[2]*k3_result[i]+\n",
    "                         first_step_result[3]*k4_result[i])\n",
    "\n",
    "dataF = pd.DataFrame([final_result], columns = ['B1','B2','B3','B4'])\n",
    "plt.figure()\n",
    "diagr = sea.barplot(data=dataF)\n",
    "diagr.bar_label(diagram.containers[0], fontsize=12);\n",
    "diagr.bar_label(diagram.containers[1], fontsize=12);\n",
    "diagr.bar_label(diagram.containers[2], fontsize=12);\n",
    "diagr.bar_label(diagram.containers[3], fontsize=12);\n",
    "plt.show()"
   ]
  }
 ],
 "metadata": {
  "kernelspec": {
   "display_name": "Python 3",
   "language": "python",
   "name": "python3"
  },
  "language_info": {
   "codemirror_mode": {
    "name": "ipython",
    "version": 3
   },
   "file_extension": ".py",
   "mimetype": "text/x-python",
   "name": "python",
   "nbconvert_exporter": "python",
   "pygments_lexer": "ipython3",
   "version": "3.10.13"
  }
 },
 "nbformat": 4,
 "nbformat_minor": 5
}
