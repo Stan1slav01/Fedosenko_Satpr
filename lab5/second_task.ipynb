{
 "cells": [
  {
   "cell_type": "code",
   "execution_count": 188,
   "id": "initial_id",
   "metadata": {
    "collapsed": true,
    "ExecuteTime": {
     "end_time": "2023-11-15T13:18:42.529741Z",
     "start_time": "2023-11-15T13:18:42.524724300Z"
    }
   },
   "outputs": [],
   "source": [
    "import pandas as pd"
   ]
  },
  {
   "cell_type": "code",
   "execution_count": 189,
   "outputs": [
    {
     "name": "stdout",
     "output_type": "stream",
     "text": [
      "Матриця ймовірностей\n"
     ]
    },
    {
     "data": {
      "text/plain": "     B1   B2   B2\nA1  0.9  0.4  0.2\nA2  0.3  0.6  0.8\nA3  0.5  0.7  0.2",
      "text/html": "<div>\n<style scoped>\n    .dataframe tbody tr th:only-of-type {\n        vertical-align: middle;\n    }\n\n    .dataframe tbody tr th {\n        vertical-align: top;\n    }\n\n    .dataframe thead th {\n        text-align: right;\n    }\n</style>\n<table border=\"1\" class=\"dataframe\">\n  <thead>\n    <tr style=\"text-align: right;\">\n      <th></th>\n      <th>B1</th>\n      <th>B2</th>\n      <th>B2</th>\n    </tr>\n  </thead>\n  <tbody>\n    <tr>\n      <th>A1</th>\n      <td>0.9</td>\n      <td>0.4</td>\n      <td>0.2</td>\n    </tr>\n    <tr>\n      <th>A2</th>\n      <td>0.3</td>\n      <td>0.6</td>\n      <td>0.8</td>\n    </tr>\n    <tr>\n      <th>A3</th>\n      <td>0.5</td>\n      <td>0.7</td>\n      <td>0.2</td>\n    </tr>\n  </tbody>\n</table>\n</div>"
     },
     "metadata": {},
     "output_type": "display_data"
    }
   ],
   "source": [
    "matrix = pd.read_excel('lab.xlsx', sheet_name='задача 2',header=None, skiprows=4, usecols='E:G', nrows=3).to_numpy()\n",
    "print('Матриця ймовірностей')\n",
    "display(pd.DataFrame(matrix, columns=['B1','B2','B2'], index=['A1','A2','A3']))"
   ],
   "metadata": {
    "collapsed": false,
    "ExecuteTime": {
     "end_time": "2023-11-15T13:18:42.561763200Z",
     "start_time": "2023-11-15T13:18:42.535728100Z"
    }
   },
   "id": "4dca61923ec1591"
  },
  {
   "cell_type": "code",
   "execution_count": 190,
   "outputs": [],
   "source": [
    "payments_matrix = matrix\n",
    "# count first col\n",
    "var1 = matrix[0][0]\n",
    "var2 = matrix[1][0]\n",
    "var3 = matrix[2][0]\n",
    "payments_matrix[1][0] = 1 - ((1 - var1)*(1 - var2))\n",
    "payments_matrix[2][0] = 1 - ((1 - var1)*(1 - var2)*(1 - var3))\n",
    "\n",
    "# count second col\n",
    "var1 = matrix[0][1]\n",
    "var2 = matrix[1][1]\n",
    "var3 = matrix[2][1]\n",
    "payments_matrix[1][1] = 1 - ((1 - var1)*(1 - var2))\n",
    "payments_matrix[2][1] = 1 - ((1 - var1)*(1 - var2)*(1 - var3))\n",
    "\n",
    "# count third col\n",
    "var1 = matrix[0][2]\n",
    "var2 = matrix[1][2]\n",
    "var3 = matrix[2][2]\n",
    "payments_matrix[1][2] = 1 - ((1 - var1)*(1 - var2))\n",
    "payments_matrix[2][2] = 1 - ((1 - var1)*(1 - var2)*(1 - var3))"
   ],
   "metadata": {
    "collapsed": false,
    "ExecuteTime": {
     "end_time": "2023-11-15T13:18:42.574764500Z",
     "start_time": "2023-11-15T13:18:42.564767400Z"
    }
   },
   "id": "a86b23e9edf90398"
  },
  {
   "cell_type": "code",
   "execution_count": 191,
   "outputs": [
    {
     "name": "stdout",
     "output_type": "stream",
     "text": [
      "Матриця платежів\n"
     ]
    },
    {
     "data": {
      "text/plain": "       B1     B2     B2\nA1  0.900  0.400  0.200\nA2  0.930  0.760  0.840\nA3  0.965  0.928  0.872",
      "text/html": "<div>\n<style scoped>\n    .dataframe tbody tr th:only-of-type {\n        vertical-align: middle;\n    }\n\n    .dataframe tbody tr th {\n        vertical-align: top;\n    }\n\n    .dataframe thead th {\n        text-align: right;\n    }\n</style>\n<table border=\"1\" class=\"dataframe\">\n  <thead>\n    <tr style=\"text-align: right;\">\n      <th></th>\n      <th>B1</th>\n      <th>B2</th>\n      <th>B2</th>\n    </tr>\n  </thead>\n  <tbody>\n    <tr>\n      <th>A1</th>\n      <td>0.900</td>\n      <td>0.400</td>\n      <td>0.200</td>\n    </tr>\n    <tr>\n      <th>A2</th>\n      <td>0.930</td>\n      <td>0.760</td>\n      <td>0.840</td>\n    </tr>\n    <tr>\n      <th>A3</th>\n      <td>0.965</td>\n      <td>0.928</td>\n      <td>0.872</td>\n    </tr>\n  </tbody>\n</table>\n</div>"
     },
     "metadata": {},
     "output_type": "display_data"
    }
   ],
   "source": [
    "print('Матриця платежів')\n",
    "display(pd.DataFrame(payments_matrix, columns=['B1','B2','B2'], index=['A1','A2','A3']))"
   ],
   "metadata": {
    "collapsed": false,
    "ExecuteTime": {
     "end_time": "2023-11-15T13:18:42.620016100Z",
     "start_time": "2023-11-15T13:18:42.579777500Z"
    }
   },
   "id": "23af71de36db447f"
  }
 ],
 "metadata": {
  "kernelspec": {
   "display_name": "Python 3",
   "language": "python",
   "name": "python3"
  },
  "language_info": {
   "codemirror_mode": {
    "name": "ipython",
    "version": 2
   },
   "file_extension": ".py",
   "mimetype": "text/x-python",
   "name": "python",
   "nbconvert_exporter": "python",
   "pygments_lexer": "ipython2",
   "version": "2.7.6"
  }
 },
 "nbformat": 4,
 "nbformat_minor": 5
}
