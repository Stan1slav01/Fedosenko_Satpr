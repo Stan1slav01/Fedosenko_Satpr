{
 "cells": [
  {
   "cell_type": "code",
   "execution_count": 43,
   "id": "initial_id",
   "metadata": {
    "collapsed": true,
    "ExecuteTime": {
     "end_time": "2023-11-15T11:30:14.199224400Z",
     "start_time": "2023-11-15T11:30:14.188177400Z"
    }
   },
   "outputs": [],
   "source": [
    "import pandas as pd\n",
    "import numpy as np"
   ]
  },
  {
   "cell_type": "code",
   "execution_count": 44,
   "outputs": [
    {
     "data": {
      "text/plain": "    B1  B2  B2  B2\nA1  -1   9   6   8\nA2  -2  10   4   6\nA3   5   3   0   7\nA4   7  -2   8   4",
      "text/html": "<div>\n<style scoped>\n    .dataframe tbody tr th:only-of-type {\n        vertical-align: middle;\n    }\n\n    .dataframe tbody tr th {\n        vertical-align: top;\n    }\n\n    .dataframe thead th {\n        text-align: right;\n    }\n</style>\n<table border=\"1\" class=\"dataframe\">\n  <thead>\n    <tr style=\"text-align: right;\">\n      <th></th>\n      <th>B1</th>\n      <th>B2</th>\n      <th>B2</th>\n      <th>B2</th>\n    </tr>\n  </thead>\n  <tbody>\n    <tr>\n      <th>A1</th>\n      <td>-1</td>\n      <td>9</td>\n      <td>6</td>\n      <td>8</td>\n    </tr>\n    <tr>\n      <th>A2</th>\n      <td>-2</td>\n      <td>10</td>\n      <td>4</td>\n      <td>6</td>\n    </tr>\n    <tr>\n      <th>A3</th>\n      <td>5</td>\n      <td>3</td>\n      <td>0</td>\n      <td>7</td>\n    </tr>\n    <tr>\n      <th>A4</th>\n      <td>7</td>\n      <td>-2</td>\n      <td>8</td>\n      <td>4</td>\n    </tr>\n  </tbody>\n</table>\n</div>"
     },
     "metadata": {},
     "output_type": "display_data"
    }
   ],
   "source": [
    "matrix = pd.read_excel('lab.xlsx', sheet_name='задача 1',header=None, skiprows=2, usecols='D:G', nrows=4).to_numpy()\n",
    "display(pd.DataFrame(matrix, columns=['B1','B2','B2','B2'], index=['A1','A2','A3','A4']))"
   ],
   "metadata": {
    "collapsed": false,
    "ExecuteTime": {
     "end_time": "2023-11-15T11:30:14.243749700Z",
     "start_time": "2023-11-15T11:30:14.203225500Z"
    }
   },
   "id": "4508e0a8e220e49a"
  },
  {
   "cell_type": "code",
   "execution_count": 45,
   "outputs": [
    {
     "data": {
      "text/plain": "    minA\nA1    -1\nA2    -2\nA3     0\nA4    -2",
      "text/html": "<div>\n<style scoped>\n    .dataframe tbody tr th:only-of-type {\n        vertical-align: middle;\n    }\n\n    .dataframe tbody tr th {\n        vertical-align: top;\n    }\n\n    .dataframe thead th {\n        text-align: right;\n    }\n</style>\n<table border=\"1\" class=\"dataframe\">\n  <thead>\n    <tr style=\"text-align: right;\">\n      <th></th>\n      <th>minA</th>\n    </tr>\n  </thead>\n  <tbody>\n    <tr>\n      <th>A1</th>\n      <td>-1</td>\n    </tr>\n    <tr>\n      <th>A2</th>\n      <td>-2</td>\n    </tr>\n    <tr>\n      <th>A3</th>\n      <td>0</td>\n    </tr>\n    <tr>\n      <th>A4</th>\n      <td>-2</td>\n    </tr>\n  </tbody>\n</table>\n</div>"
     },
     "metadata": {},
     "output_type": "display_data"
    },
    {
     "data": {
      "text/plain": "    maxB\nB1     7\nB2    10\nB3     8\nB4     8",
      "text/html": "<div>\n<style scoped>\n    .dataframe tbody tr th:only-of-type {\n        vertical-align: middle;\n    }\n\n    .dataframe tbody tr th {\n        vertical-align: top;\n    }\n\n    .dataframe thead th {\n        text-align: right;\n    }\n</style>\n<table border=\"1\" class=\"dataframe\">\n  <thead>\n    <tr style=\"text-align: right;\">\n      <th></th>\n      <th>maxB</th>\n    </tr>\n  </thead>\n  <tbody>\n    <tr>\n      <th>B1</th>\n      <td>7</td>\n    </tr>\n    <tr>\n      <th>B2</th>\n      <td>10</td>\n    </tr>\n    <tr>\n      <th>B3</th>\n      <td>8</td>\n    </tr>\n    <tr>\n      <th>B4</th>\n      <td>8</td>\n    </tr>\n  </tbody>\n</table>\n</div>"
     },
     "metadata": {},
     "output_type": "display_data"
    }
   ],
   "source": [
    "minA = [min(row) for row in matrix]\n",
    "maxB = [max(row[i] for row in matrix) for i in range(len(matrix[0]))]\n",
    "display(pd.DataFrame(minA, columns=['minA'], index=['A1','A2','A3','A4']))\n",
    "display(pd.DataFrame(maxB, columns=['maxB'], index=['B1','B2','B3','B4']))"
   ],
   "metadata": {
    "collapsed": false,
    "ExecuteTime": {
     "end_time": "2023-11-15T11:30:14.261750200Z",
     "start_time": "2023-11-15T11:30:14.233755800Z"
    }
   },
   "id": "c6e2b46f8322a885"
  },
  {
   "cell_type": "code",
   "execution_count": 46,
   "outputs": [
    {
     "name": "stdout",
     "output_type": "stream",
     "text": [
      "Нижня ціна гри: A 2 - 0\n",
      "Верхня ціна гри: B 0 - 7\n",
      "Сідлової точки не існує\n"
     ]
    }
   ],
   "source": [
    "min_max_B = min(maxB)\n",
    "max_min_A = max(minA)\n",
    "print('Нижня ціна гри: A', np.argmax(minA), '-' , max_min_A)\n",
    "print('Верхня ціна гри: B', np.argmin(maxB), '-' , min_max_B)\n",
    "\n",
    "if(min_max_B == max_min_A):\n",
    "    print('Сідлова точка існує')\n",
    "else:\n",
    "    print('Сідлової точки не існує')"
   ],
   "metadata": {
    "collapsed": false,
    "ExecuteTime": {
     "end_time": "2023-11-15T11:30:14.297614500Z",
     "start_time": "2023-11-15T11:30:14.266750600Z"
    }
   },
   "id": "b3c02c364b442c07"
  }
 ],
 "metadata": {
  "kernelspec": {
   "display_name": "Python 3",
   "language": "python",
   "name": "python3"
  },
  "language_info": {
   "codemirror_mode": {
    "name": "ipython",
    "version": 2
   },
   "file_extension": ".py",
   "mimetype": "text/x-python",
   "name": "python",
   "nbconvert_exporter": "python",
   "pygments_lexer": "ipython2",
   "version": "2.7.6"
  }
 },
 "nbformat": 4,
 "nbformat_minor": 5
}
