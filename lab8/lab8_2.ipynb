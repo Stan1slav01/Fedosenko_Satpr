{
 "cells": [
  {
   "cell_type": "code",
   "execution_count": 1,
   "metadata": {},
   "outputs": [
    {
     "name": "stdout",
     "output_type": "stream",
     "text": [
      "Відповідь:\n",
      "     0    1   2    3   4\n",
      "0    0  100  30    0  70\n",
      "1  190    0   0    0  60\n",
      "2    0    0  90  110   0\n",
      "Загальна вартість: 15080\n"
     ]
    }
   ],
   "source": [
    "from pulp import *\n",
    "import numpy as np\n",
    "import pandas as pd\n",
    "\n",
    "# Постачання\n",
    "supply = [200, 250, 200]\n",
    "suppliers = range(len(supply))\n",
    "\n",
    "# Попит\n",
    "demand = [190,100,120,110,130]\n",
    "consumers = range(len(demand))\n",
    "\n",
    "# Вартість перевезення\n",
    "costs = [[28, 27,18,27,\t24], [18,26,27,32,21], [27,33,23,31,34]]\n",
    "\n",
    "# Дані для задачі\n",
    "costs = makeDict([suppliers, consumers], costs, 0)\n",
    "prob = LpProblem(\"Transportation_Problem\", LpMinimize)\n",
    "\n",
    "# Шляхи перевезення\n",
    "routes = [(i, j) for i in suppliers for j in consumers]\n",
    "\n",
    "# Змінні для шляхів перевезення\n",
    "vars = LpVariable.dicts(\"Route\", (suppliers, consumers), 0, None, LpInteger)\n",
    "\n",
    "# Функція мінімізації\n",
    "prob += (\n",
    "    lpSum([vars[w][b] * costs[w][b] for (w, b) in routes]),\n",
    "    \"Sum_of_Transporting_Costs\",\n",
    ")\n",
    "# Максимальні обмеження постачання\n",
    "for s in suppliers:\n",
    "    prob += (\n",
    "        lpSum([vars[s][b] for b in consumers]) <= supply[s],\n",
    "        \"Sum_of_Products_out_of_supplier_%s\" % s,\n",
    "    )\n",
    "\n",
    "# Мінімальні обмеження попиту\n",
    "for c in consumers:\n",
    "    prob += (\n",
    "        lpSum([vars[w][c] for w in suppliers]) >= demand[c],\n",
    "        \"Sum_of_Products_into_consumer%s\" % c,\n",
    "    )\n",
    "# Вирішення задачі за допомогою PuLP\n",
    "prob.solve()\n",
    "\n",
    "results = [v.varValue for v in prob.variables()]\n",
    "\n",
    "print(\"Відповідь:\")\n",
    "print(pd.DataFrame(np.array(results).reshape(3, 5)))\n",
    "print(\"Загальна вартість:\", value(prob.objective))"
   ]
  }
 ],
 "metadata": {
  "kernelspec": {
   "display_name": "Python 3",
   "language": "python",
   "name": "python3"
  },
  "language_info": {
   "codemirror_mode": {
    "name": "ipython",
    "version": 3
   },
   "file_extension": ".py",
   "mimetype": "text/x-python",
   "name": "python",
   "nbconvert_exporter": "python",
   "pygments_lexer": "ipython3",
   "version": "3.10.13"
  }
 },
 "nbformat": 4,
 "nbformat_minor": 2
}
